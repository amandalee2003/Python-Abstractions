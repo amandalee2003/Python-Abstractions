{
  "cells": [
    {
      "cell_type": "markdown",
      "metadata": {
        "id": "view-in-github",
        "colab_type": "text"
      },
      "source": [
        "<a href=\"https://colab.research.google.com/github/amandalee2003/Python-Abstractions/blob/main/Homework_13_test_feedback.ipynb\" target=\"_parent\"><img src=\"https://colab.research.google.com/assets/colab-badge.svg\" alt=\"Open In Colab\"/></a>"
      ]
    },
    {
      "cell_type": "markdown",
      "metadata": {
        "id": "c4872db2a79ab09f"
      },
      "source": [
        "# Overall Score\n",
        "\n",
        "You received 90 out of 90 points.\n"
      ]
    },
    {
      "cell_type": "markdown",
      "metadata": {
        "id": "HJJbjibd00P0"
      },
      "source": [
        "Before you turn this problem in, make sure everything runs as expected. First, **restart the kernel** (in the menubar, select Kernel$\\rightarrow$Restart) and then **run all cells** (in the menubar, select Cell$\\rightarrow$Run All).\n",
        "\n",
        "Make sure you fill in any place that says `YOUR CODE HERE` or \"YOUR ANSWER HERE\", as well as your name and collaborators below:"
      ]
    },
    {
      "cell_type": "code",
      "execution_count": null,
      "metadata": {
        "id": "IEHDbPJb00P2"
      },
      "outputs": [],
      "source": [
        "NAME = \"\"\n",
        "COLLABORATORS = \"\""
      ]
    },
    {
      "cell_type": "markdown",
      "metadata": {
        "id": "CgsiJOVA00P3"
      },
      "source": [
        "---"
      ]
    },
    {
      "cell_type": "markdown",
      "metadata": {
        "deletable": false,
        "editable": false,
        "id": "ZeK2beJP00P3",
        "nbgrader": {
          "checksum": null,
          "grade": false,
          "grade_id": "cell-3af11f49ffa62671",
          "locked": true,
          "schema_version": 3,
          "solution": false
        }
      },
      "source": [
        "# CSE 30 Winter 2022 - Homework 13\n",
        "\n",
        "## Graphs\n",
        "\n",
        "\n",
        "### Instructions\n",
        "\n",
        "Please disregard the YOUR NAME and COLLABORATORS above.  They are put there atomatically by the grading tool.\n",
        "You can find instructions on how to work on a homework on Canvas.  Here is a short summary:\n",
        "\n",
        "### Submitting your work\n",
        "\n",
        "To submit your work:\n",
        "\n",
        "* First, click on \"Runtime > Restart and run all\", and check that you get no errors.  This enables you to catch any error you might have introduced, and not noticed, due to your running cells out of order.\n",
        "* Second, download the notebook in .ipynb format (File > Download .ipynb) and upload the .ipynb file to [this form](https://docs.google.com/forms/d/e/1FAIpQLSevMubgZONFAYrE2_J9-mT7klxplrsvLyLK-IXW6iHqqxtAZw/viewform?usp=sf_link). This homework is due by **11:59pm on Thursday, 24 February 2022**.\n",
        "\n",
        "You can submit multiple times; the last submission before the deadline is the one that counts.\n",
        "\n",
        "### Homework format\n",
        "\n",
        "For each question in this notebook, there is:\n",
        "\n",
        "* A text description of the problem.\n",
        "* One or more places where you have to insert your solution.  You need to complete every place marked:\n",
        "\n",
        "    `# YOUR CODE HERE`\n",
        "    \n",
        "    and you should not modify any other place.\n",
        "* One or more test cells.  Each cell is worth some number of points, marked at the top.  You should not modify these tests cells.  The tests pass if no error is printed out: when there is a statement that says, for instance:\n",
        "\n",
        "    `assert x == 2`\n",
        "    \n",
        "    then the test passes if `x` has value 2, and fails otherwise.  You can insert a `print(x)` (for this case!) somewhere if you want to debug your work; it is up to you.  \n",
        "    \n",
        "### Notes:\n",
        "\n",
        "* Your code will be tested both according to the tests you can see (the `assert` statements you can see), _and_ additional tests.  This prevents you from hard-coding the answer to the particular questions posed.  Your code should solve the _general_ intended case, not hard-code the particular answer for the values used in the tests.\n",
        "\n",
        "* **Please do not delete or add cells!** The test is autograded, and if you modify the test by adding or deleting cells, even if you re-add cells you delete, you may not receive credit.\n",
        "\n",
        "* **Please do not import modules that are not part of the [standard library](https://docs.python.org/3/library/index.html).** You do not need any, and they will likely not available in the grading environment, leading your code to fail.\n",
        "\n",
        "* **If you are inactive too long, your notebook might get disconnected from the back-end.** Your work is never lost, but you have to re-run all the cells before you continue.\n",
        "\n",
        "* You can write out print statements in your code, to help you test/debug it. But remember: the code is graded on the basis of what it outputs or returns, not on the basis of what it prints.\n",
        "\n",
        "* **TAs and tutors have access to this notebook,** so if you let them know you need their help, they can look at your work and give you advice.\n",
        "\n",
        "### Grading\n",
        "\n",
        "Each cell where there are tests is worth a certain number of points.  You get the points allocated to a cell only if you pass _all_ the tests in the cell.\n",
        "\n",
        "The tests in a cell include both the tests you can see, and other, similar, tests that are used for grading only.  Therefore, you cannot hard-code the solutions: you really have to solve the essence of the problem, to receive the points in a cell.\n",
        "\n",
        "### Code of Conduct\n",
        "\n",
        "* Work on the test yourself, alone.\n",
        "* You can search documentation on the web, on sites such as the Python documentation sites, Stackoverflow, and similar, and you can use the results.\n",
        "* You cannot share your work with others or solicit their help.\n"
      ]
    },
    {
      "cell_type": "markdown",
      "metadata": {
        "deletable": false,
        "editable": false,
        "id": "dzkWeGhh00P4",
        "nbgrader": {
          "checksum": null,
          "grade": false,
          "grade_id": "cell-7cbe531ec08f040b",
          "locked": true,
          "schema_version": 3,
          "solution": false
        }
      },
      "source": [
        "## About This Homework\n",
        "\n",
        "The homework consists of 4 questions, for a total of 90                            points.\n",
        "\n",
        "The instructions for working on homework assignments are available on Canvas; as a summary:\n",
        "\n",
        "* Write your code only where indicated via\n",
        "\n",
        "        # YOUR CODE HERE\n",
        "    If you write code in other places, it will be discarded during grading.\n",
        "* Do not add/remove cells.\n",
        "* The tests are implemented with assert statements: if they fail, you will see an error (a Python exception). If you see no error, you can assume that they pass.\n",
        "\n",
        "Once you are done working on it, you can download the .ipynb and [submit to this Google Form](https://docs.google.com/forms/d/e/1FAIpQLSe7gGOiIELvfI9ImU5Xf8idU44DbS9zEtskln5wBoP2OS2giw/viewform?usp=sf_link)."
      ]
    },
    {
      "cell_type": "markdown",
      "metadata": {
        "deletable": false,
        "editable": false,
        "id": "4duUdrSd00P4",
        "nbgrader": {
          "checksum": null,
          "grade": false,
          "grade_id": "cell-c1227e8962a97c22",
          "locked": true,
          "schema_version": 3,
          "solution": false
        }
      },
      "source": [
        "Assume you have to prepare Pasta Carbonara.   My version of the recipe goes like this:\n",
        "\n",
        "> Dice onions and pancetta, and fry in a mix of olive oil and butter, slowly.  Separately, put in a bowl as many eggs as there are dinner guests; you can either put in the bowls the yolks only, or you can add a few whites if you wish.  Beat the eggs.  \n",
        "> Bring water to a boil, and when it boils, salt it.  Put the pasta in (I like Penne Rigate).   When cooked, colander the water away, and quickly unite in the bowl the beaten eggs, the pasta, and the pancetta.  Mix well and serve immediately.\n",
        "\n",
        "If you have to invite people over, you could do this recipe sequentially, and first worry about cooking the pasta: warming the water, putting the pasta in, then colandering it.  Then you could worry about cooking the pancetta and onions.  When that's done, you can start to beat the eggs. Finally, you could unite everything.  Technically, that would work, but there would be two problems.  The first is that, of course, the pasta would be rather cold by the time it would be served, a capital sin (pasta must be served immediately after it is cooked).  Secondly, even if you rehash the order so that you first cook the pancetta, then beat the eggs, then cook the pasta, then technically this works -- but it would take you well over one hour to have everything ready.  You want to do things in parallel, cooking the pancetta while heating up the water for the pasta, and so forth.  You want to discover what are the things that need to be done one after the other, and what are the things that can be done in parallel, and in which order to do everything.  \n",
        "\n",
        "Great cooking, by the way, is much about the perfect timing, not only the perfect preparation.  You have to have the various preparations ready at the same time, to unite them just right.  We will worry about timing in the second part of this chapter; first, we worry about what we can do and in which order.\n",
        "\n",
        "As an aside for those of you who are more interested in compiling code than in cooking, the problem of how to compile C or C++ code is very similar.  A makefile defines dependencies between tasks: you have to have compiled pathlib.c before you can link the result together with something else.  The task of the make program is to figure out how to parallelize the compilation, so that independent tasks can happen in different processes (possibly on different CPU cores), while respecting the precedence constraints between tasks.  We will mention this application in some of the exercises of the chapter.\n",
        "\n",
        "\n",
        "\n"
      ]
    },
    {
      "cell_type": "markdown",
      "metadata": {
        "deletable": false,
        "editable": false,
        "id": "lgjBTLzT00P5",
        "nbgrader": {
          "checksum": null,
          "grade": false,
          "grade_id": "cell-fb164ec01ddc6613",
          "locked": true,
          "schema_version": 3,
          "solution": false
        }
      },
      "source": [
        "## Scheduling dependent tasks"
      ]
    },
    {
      "cell_type": "markdown",
      "metadata": {
        "deletable": false,
        "editable": false,
        "id": "MJmBonVT00P5",
        "nbgrader": {
          "checksum": null,
          "grade": false,
          "grade_id": "cell-d22bcf8b37f92de",
          "locked": true,
          "schema_version": 3,
          "solution": false
        }
      },
      "source": [
        "We first disregard the problem of cooking (or compiling) time, and ask about the order in which we should be doing the tasks.  We want to create a _Scheduler_ object, that can tell us what to do at the same time.  What operations should this object support?\n",
        "\n",
        "* **add_task:** we should be able to add a task, along with the task dependencies.\n",
        "* **reset:** indicating that we are about to run the sequences of tasks again.\n",
        "* **available_tasks:** this property should return the set of things that we can do in parallel.\n",
        "* **mark_completed:** used to notify the scheduler that we have completed a task.  This should return the set of new tasks that we can do due to this task being completed; we can do these tasks in parallel alongside with the others that we are already doing.\n",
        "* **all_done:** returns True/False according to whether we have completed all tasks.\n",
        "\n",
        "Choosing these operations is perhaps the most important step in the design of the scheduler.  The operations need to have a simple, clear definition, and be useful in a concrete implementation of the service which will run the tasks.  Of the above operations, they are all uncontroversial, except for the choice of behavior of _completed_.  In theory, there is no need for _completed_ to return the set of _new_ tasks that can now be undertaken.  If one remembers the set of tasks $T_1$ one can a do before a task $t \\in T_1$ is completed, and marks $t$ as completed, one can simply ask the scheduler for the set of tasks $T_2$ that can now be done, and add those in $T_{21t} = T_2 \\setminus (\\{t\\} \\cup T_1)$ for execution.  However, we guess (as we have not yet written the task execution engine) that being told this set of tasks directly will simplify the design of the task execution engine."
      ]
    },
    {
      "cell_type": "markdown",
      "metadata": {
        "deletable": false,
        "editable": false,
        "id": "bcpvXxxZ00P5",
        "nbgrader": {
          "checksum": null,
          "grade": false,
          "grade_id": "cell-e735107576b8daa4",
          "locked": true,
          "schema_version": 3,
          "solution": false
        }
      },
      "source": [
        "Our scheduler class will be implemented in similar fashion to our graph class, with tasks corresponding to graph vertices, and dependencies represented as edges.\n",
        "The difference is that here, given a vertex (that is, a task) $v$, it will be useful to be able to access both:\n",
        "\n",
        "* the _predecessors_ of $v$, that is, the tasks $u$ that are declared as prerequisites of $v$, and\n",
        "* the _successors_ of $v$, that is, the tasks $u$ such that $v$ was declared as a prerequisite for $u$.\n",
        "\n",
        "When we add a task, we would have to initialize its set of successors and predecessors to empty.  This is somewhat tedious, and so we resort to a defaultdict, which is a special type of dictionary such that, if the mapping for a key has not been defined, it returns a default value; in our case, an empty set.  [You can read more about defaultdict and related types here](https://docs.python.org/3.7/library/collections.html#collections.defaultdict).\n",
        "\n",
        "Our first implementation of the class is as follows.  We let you complete the `available_tasks` and `mark_completed` methods.\n"
      ]
    },
    {
      "cell_type": "code",
      "execution_count": null,
      "metadata": {
        "deletable": false,
        "editable": false,
        "id": "OG-M8GDC00P6",
        "nbgrader": {
          "checksum": null,
          "grade": false,
          "grade_id": "cell-e32c0b7e49edc9a8",
          "locked": true,
          "schema_version": 3,
          "solution": false
        },
        "outputId": "68f1edf4-9eb5-4955-a707-9d7dc2ee60bb"
      },
      "outputs": [
        {
          "ename": "ModuleNotFoundError",
          "evalue": "No module named 'networkx'",
          "output_type": "error",
          "traceback": [
            "\u001b[0;31m---------------------------------------------------------------------------\u001b[0m",
            "\u001b[0;31mModuleNotFoundError\u001b[0m                       Traceback (most recent call last)",
            "\u001b[0;32m<ipython-input-2-159e220269f3>\u001b[0m in \u001b[0;36m<module>\u001b[0;34m\u001b[0m\n\u001b[1;32m      1\u001b[0m \u001b[0;32mfrom\u001b[0m \u001b[0mcollections\u001b[0m \u001b[0;32mimport\u001b[0m \u001b[0mdefaultdict\u001b[0m\u001b[0;34m\u001b[0m\u001b[0;34m\u001b[0m\u001b[0m\n\u001b[0;32m----> 2\u001b[0;31m \u001b[0;32mimport\u001b[0m \u001b[0mnetworkx\u001b[0m \u001b[0;32mas\u001b[0m \u001b[0mnx\u001b[0m \u001b[0;31m# Library for displaying graphs.\u001b[0m\u001b[0;34m\u001b[0m\u001b[0;34m\u001b[0m\u001b[0m\n\u001b[0m\u001b[1;32m      3\u001b[0m \u001b[0;32mimport\u001b[0m \u001b[0mmatplotlib\u001b[0m\u001b[0;34m.\u001b[0m\u001b[0mpyplot\u001b[0m \u001b[0;32mas\u001b[0m \u001b[0mplt\u001b[0m\u001b[0;34m\u001b[0m\u001b[0;34m\u001b[0m\u001b[0m\n\u001b[1;32m      4\u001b[0m \u001b[0;34m\u001b[0m\u001b[0m\n\u001b[1;32m      5\u001b[0m \u001b[0;32mclass\u001b[0m \u001b[0mDependencyScheduler\u001b[0m\u001b[0;34m(\u001b[0m\u001b[0mobject\u001b[0m\u001b[0;34m)\u001b[0m\u001b[0;34m:\u001b[0m\u001b[0;34m\u001b[0m\u001b[0;34m\u001b[0m\u001b[0m\n",
            "\u001b[0;31mModuleNotFoundError\u001b[0m: No module named 'networkx'"
          ]
        }
      ],
      "source": [
        "from collections import defaultdict\n",
        "import networkx as nx # Library for displaying graphs.\n",
        "import matplotlib.pyplot as plt\n",
        "\n",
        "class DependencyScheduler(object):\n",
        "\n",
        "    def __init__(self):\n",
        "        self.tasks = set()\n",
        "        # The successors of a task are the tasks that depend on it, and can\n",
        "        # only be done once the task is completed.\n",
        "        self.successors = defaultdict(set)\n",
        "        # The predecessors of a task have to be done before the task.\n",
        "        self.predecessors = defaultdict(set)\n",
        "        self.completed_tasks = set() # completed tasks\n",
        "\n",
        "    def add_task(self, t, dependencies):\n",
        "        \"\"\"Adds a task t with given dependencies.\"\"\"\n",
        "        # Makes sure we know about all tasks mentioned.\n",
        "        assert t not in self.tasks or len(self.predecessors[t]) == 0, \"The task was already present.\"\n",
        "        self.tasks.add(t)\n",
        "        self.tasks.update(dependencies)\n",
        "        # The predecessors are the tasks that need to be done before.\n",
        "        self.predecessors[t] = set(dependencies)\n",
        "        # The new task is a successor of its dependencies.\n",
        "        for u in dependencies:\n",
        "            self.successors[u].add(t)\n",
        "\n",
        "    def reset(self):\n",
        "        self.completed_tasks = set()\n",
        "\n",
        "    @property\n",
        "    def done(self):\n",
        "        return self.completed_tasks == self.tasks\n",
        "\n",
        "\n",
        "    def show(self):\n",
        "        \"\"\"We use the nx graph to display the graph.\"\"\"\n",
        "        g = nx.DiGraph()\n",
        "        g.add_nodes_from(self.tasks)\n",
        "        g.add_edges_from([(u, v) for u in self.tasks for v in self.successors[u]])\n",
        "        node_colors = ''.join([('g' if v in self.completed_tasks else 'r')\n",
        "                           for v in self.tasks])\n",
        "        nx.draw(g, with_labels=True, node_color=node_colors)\n",
        "        plt.show()\n",
        "\n",
        "    @property\n",
        "    def uncompleted(self):\n",
        "        \"\"\"Returns the tasks that have not been completed.\n",
        "        This is a property, so you can say scheduler.uncompleted rather than\n",
        "        scheduler.uncompleted()\"\"\"\n",
        "        return self.tasks - self.completed_tasks\n",
        "\n",
        "    def _check(self):\n",
        "        \"\"\"We check that if t is a successor of u, then u is a predecessor\n",
        "        of t.\"\"\"\n",
        "        for u in self.tasks:\n",
        "            for t in self.successors[u]:\n",
        "                assert u in self.predecessors[t]\n"
      ]
    },
    {
      "cell_type": "markdown",
      "metadata": {
        "deletable": false,
        "editable": false,
        "id": "ewmjRXIK00P6",
        "nbgrader": {
          "checksum": null,
          "grade": false,
          "grade_id": "cell-81b42fad17ca63db",
          "locked": true,
          "schema_version": 3,
          "solution": false
        }
      },
      "source": [
        "## Question 1: implement `available_tasks` and `mark_completed`."
      ]
    },
    {
      "cell_type": "code",
      "execution_count": null,
      "metadata": {
        "deletable": false,
        "id": "HPOy_fAS00P6",
        "nbgrader": {
          "checksum": null,
          "grade": false,
          "grade_id": "cell-a7bf359c1970d0d",
          "locked": false,
          "schema_version": 3,
          "solution": true
        },
        "outputId": "2c6feab5-f397-4489-a17c-c6c2b7224dc9"
      },
      "outputs": [
        {
          "ename": "NameError",
          "evalue": "name 'DependencyScheduler' is not defined",
          "output_type": "error",
          "traceback": [
            "\u001b[0;31m---------------------------------------------------------------------------\u001b[0m",
            "\u001b[0;31mNameError\u001b[0m                                 Traceback (most recent call last)",
            "\u001b[0;32m<ipython-input-3-6609eee5cce7>\u001b[0m in \u001b[0;36m<module>\u001b[0;34m\u001b[0m\n\u001b[1;32m     25\u001b[0m     \u001b[0;32mreturn\u001b[0m \u001b[0msett\u001b[0m\u001b[0;34m\u001b[0m\u001b[0;34m\u001b[0m\u001b[0m\n\u001b[1;32m     26\u001b[0m \u001b[0;34m\u001b[0m\u001b[0m\n\u001b[0;32m---> 27\u001b[0;31m \u001b[0mDependencyScheduler\u001b[0m\u001b[0;34m.\u001b[0m\u001b[0mavailable_tasks\u001b[0m \u001b[0;34m=\u001b[0m \u001b[0mproperty\u001b[0m\u001b[0;34m(\u001b[0m\u001b[0mscheduler_available_tasks\u001b[0m\u001b[0;34m)\u001b[0m\u001b[0;34m\u001b[0m\u001b[0;34m\u001b[0m\u001b[0m\n\u001b[0m\u001b[1;32m     28\u001b[0m \u001b[0mDependencyScheduler\u001b[0m\u001b[0;34m.\u001b[0m\u001b[0mmark_completed\u001b[0m \u001b[0;34m=\u001b[0m \u001b[0mscheduler_mark_completed\u001b[0m\u001b[0;34m\u001b[0m\u001b[0;34m\u001b[0m\u001b[0m\n",
            "\u001b[0;31mNameError\u001b[0m: name 'DependencyScheduler' is not defined"
          ]
        }
      ],
      "source": [
        "### Implementation of `available_tasks` and `mark_completed`.\n",
        "\n",
        "def scheduler_available_tasks(self):\n",
        "    \"\"\"Returns the set of tasks that can be done in parallel.\n",
        "    A task can be done if all its predecessors have been completed.\n",
        "    And of course, we don't return any task that has already been\n",
        "    completed.\"\"\"\n",
        "    # YOUR CODE HERE\n",
        "    sets = set()\n",
        "    for i in self.uncompleted:\n",
        "        if self.predecessors[i].issubset(self.completed_tasks):\n",
        "            sets.add(i)\n",
        "    return sets\n",
        "\n",
        "def scheduler_mark_completed(self, t):\n",
        "    \"\"\"Marks the task t as completed, and returns the additional\n",
        "    set of tasks that can be done (and that could not be\n",
        "    previously done) once t is completed.\"\"\"\n",
        "    # YOUR CODE HERE\n",
        "    self.completed_tasks.add(t)\n",
        "    sett = set()\n",
        "    for i in self.successors[t]:\n",
        "        if self.predecessors[i].issubset(self.completed_tasks):\n",
        "            sett.add(i)\n",
        "    return sett\n",
        "\n",
        "DependencyScheduler.available_tasks = property(scheduler_available_tasks)\n",
        "DependencyScheduler.mark_completed = scheduler_mark_completed\n"
      ]
    },
    {
      "cell_type": "code",
      "execution_count": null,
      "metadata": {
        "deletable": false,
        "id": "7MrYUy4900P6",
        "nbgrader": {
          "checksum": null,
          "grade": false,
          "grade_id": "cell-64d5d2589300730b",
          "locked": false,
          "schema_version": 3,
          "solution": true
        }
      },
      "outputs": [],
      "source": [
        "# Here is a place where you can test your code.\n",
        "\n",
        "# YOUR CODE HERE\n"
      ]
    },
    {
      "cell_type": "markdown",
      "metadata": {
        "deletable": false,
        "editable": false,
        "id": "-raHUC_z00P7",
        "nbgrader": {
          "checksum": null,
          "grade": false,
          "grade_id": "cell-fd800dd43cd48dab",
          "locked": true,
          "schema_version": 3,
          "solution": false
        }
      },
      "source": [
        "Let us check if this works."
      ]
    },
    {
      "cell_type": "code",
      "execution_count": null,
      "metadata": {
        "colab": {
          "base_uri": "https://localhost:8080/",
          "height": 374
        },
        "deletable": false,
        "editable": false,
        "id": "Iw-yaQ-w00P7",
        "nbgrader": {
          "checksum": null,
          "grade": false,
          "grade_id": "cell-13dd94e69309220",
          "locked": true,
          "schema_version": 3,
          "solution": false
        },
        "outputId": "c7177b98-6d1d-4c24-bd00-d0221c036a6a"
      },
      "outputs": [
        {
          "ename": "NameError",
          "evalue": "name 'DependencyScheduler' is not defined",
          "output_type": "error",
          "traceback": [
            "\u001b[0;31m---------------------------------------------------------------------------\u001b[0m",
            "\u001b[0;31mNameError\u001b[0m                                 Traceback (most recent call last)",
            "\u001b[0;32m<ipython-input-5-9d8c08495765>\u001b[0m in \u001b[0;36m<module>\u001b[0;34m\u001b[0m\n\u001b[0;32m----> 1\u001b[0;31m \u001b[0ms\u001b[0m \u001b[0;34m=\u001b[0m \u001b[0mDependencyScheduler\u001b[0m\u001b[0;34m(\u001b[0m\u001b[0;34m)\u001b[0m\u001b[0;34m\u001b[0m\u001b[0;34m\u001b[0m\u001b[0m\n\u001b[0m\u001b[1;32m      2\u001b[0m \u001b[0ms\u001b[0m\u001b[0;34m.\u001b[0m\u001b[0madd_task\u001b[0m\u001b[0;34m(\u001b[0m\u001b[0;34m'a'\u001b[0m\u001b[0;34m,\u001b[0m \u001b[0;34m[\u001b[0m\u001b[0;34m'b'\u001b[0m\u001b[0;34m,\u001b[0m \u001b[0;34m'c'\u001b[0m\u001b[0;34m]\u001b[0m\u001b[0;34m)\u001b[0m\u001b[0;34m\u001b[0m\u001b[0;34m\u001b[0m\u001b[0m\n\u001b[1;32m      3\u001b[0m \u001b[0ms\u001b[0m\u001b[0;34m.\u001b[0m\u001b[0madd_task\u001b[0m\u001b[0;34m(\u001b[0m\u001b[0;34m'b'\u001b[0m\u001b[0;34m,\u001b[0m \u001b[0;34m[\u001b[0m\u001b[0;34m'c'\u001b[0m\u001b[0;34m,\u001b[0m \u001b[0;34m'e'\u001b[0m\u001b[0;34m]\u001b[0m\u001b[0;34m)\u001b[0m\u001b[0;34m\u001b[0m\u001b[0;34m\u001b[0m\u001b[0m\n\u001b[1;32m      4\u001b[0m \u001b[0ms\u001b[0m\u001b[0;34m.\u001b[0m\u001b[0m_check\u001b[0m\u001b[0;34m(\u001b[0m\u001b[0;34m)\u001b[0m\u001b[0;34m\u001b[0m\u001b[0;34m\u001b[0m\u001b[0m\n\u001b[1;32m      5\u001b[0m \u001b[0ms\u001b[0m\u001b[0;34m.\u001b[0m\u001b[0mshow\u001b[0m\u001b[0;34m(\u001b[0m\u001b[0;34m)\u001b[0m\u001b[0;34m\u001b[0m\u001b[0;34m\u001b[0m\u001b[0m\n",
            "\u001b[0;31mNameError\u001b[0m: name 'DependencyScheduler' is not defined"
          ]
        }
      ],
      "source": [
        "s = DependencyScheduler()\n",
        "s.add_task('a', ['b', 'c'])\n",
        "s.add_task('b', ['c', 'e'])\n",
        "s._check()\n",
        "s.show()\n"
      ]
    },
    {
      "cell_type": "markdown",
      "metadata": {
        "deletable": false,
        "editable": false,
        "id": "_jmT0wnV00P7",
        "nbgrader": {
          "checksum": null,
          "grade": false,
          "grade_id": "cell-c5f220d97074f26e",
          "locked": true,
          "schema_version": 3,
          "solution": false
        }
      },
      "source": [
        "We note that in the above drawing, the edges denote temporal succession, that is, an edge from $c$ to $a$ means that $c$ must happen before $a$.\n",
        "Let us execute the schedule manually."
      ]
    },
    {
      "cell_type": "markdown",
      "metadata": {
        "deletable": false,
        "editable": false,
        "id": "SM_kHavX00P7",
        "nbgrader": {
          "checksum": null,
          "grade": false,
          "grade_id": "cell-fa975ebf67626627",
          "locked": true,
          "schema_version": 3,
          "solution": false
        }
      },
      "source": [
        "Here are some tests for `available_tasks` and `mark_completed`."
      ]
    },
    {
      "cell_type": "code",
      "execution_count": null,
      "metadata": {
        "deletable": false,
        "editable": false,
        "id": "YrSQZuhs00P7",
        "nbgrader": {
          "checksum": null,
          "grade": false,
          "grade_id": "cell-a7dd294e22d368ad",
          "locked": true,
          "schema_version": 3,
          "solution": false
        },
        "outputId": "0a035b9e-6805-4590-8cbf-9580aa3bc645"
      },
      "outputs": [
        {
          "ename": "NameError",
          "evalue": "name 'DependencyScheduler' is not defined",
          "output_type": "error",
          "traceback": [
            "\u001b[0;31m---------------------------------------------------------------------------\u001b[0m",
            "\u001b[0;31mNameError\u001b[0m                                 Traceback (most recent call last)",
            "\u001b[0;32m<ipython-input-6-5dfd97ede536>\u001b[0m in \u001b[0;36m<module>\u001b[0;34m\u001b[0m\n\u001b[1;32m      1\u001b[0m \u001b[0;31m### Simple tests. 5 points.\u001b[0m\u001b[0;34m\u001b[0m\u001b[0;34m\u001b[0m\u001b[0;34m\u001b[0m\u001b[0m\n\u001b[1;32m      2\u001b[0m \u001b[0;34m\u001b[0m\u001b[0m\n\u001b[0;32m----> 3\u001b[0;31m \u001b[0ms\u001b[0m \u001b[0;34m=\u001b[0m \u001b[0mDependencyScheduler\u001b[0m\u001b[0;34m(\u001b[0m\u001b[0;34m)\u001b[0m\u001b[0;34m\u001b[0m\u001b[0;34m\u001b[0m\u001b[0m\n\u001b[0m\u001b[1;32m      4\u001b[0m \u001b[0ms\u001b[0m\u001b[0;34m.\u001b[0m\u001b[0madd_task\u001b[0m\u001b[0;34m(\u001b[0m\u001b[0;34m'a'\u001b[0m\u001b[0;34m,\u001b[0m \u001b[0;34m[\u001b[0m\u001b[0;34m]\u001b[0m\u001b[0;34m)\u001b[0m\u001b[0;34m\u001b[0m\u001b[0;34m\u001b[0m\u001b[0m\n\u001b[1;32m      5\u001b[0m \u001b[0;32massert\u001b[0m \u001b[0ms\u001b[0m\u001b[0;34m.\u001b[0m\u001b[0mavailable_tasks\u001b[0m \u001b[0;34m==\u001b[0m \u001b[0;34m{\u001b[0m\u001b[0;34m'a'\u001b[0m\u001b[0;34m}\u001b[0m\u001b[0;34m\u001b[0m\u001b[0;34m\u001b[0m\u001b[0m\n",
            "\u001b[0;31mNameError\u001b[0m: name 'DependencyScheduler' is not defined"
          ]
        }
      ],
      "source": [
        "### Simple tests. 5 points.\n",
        "\n",
        "s = DependencyScheduler()\n",
        "s.add_task('a', [])\n",
        "assert s.available_tasks == {'a'}\n",
        "\n",
        "s = DependencyScheduler()\n",
        "assert s.available_tasks == set()\n"
      ]
    },
    {
      "cell_type": "code",
      "execution_count": null,
      "metadata": {
        "deletable": false,
        "editable": false,
        "id": "22bjW9rd00P7",
        "nbgrader": {
          "checksum": null,
          "grade": false,
          "grade_id": "cell-5b2f9aa2fb516eca",
          "locked": true,
          "schema_version": 3,
          "solution": false
        },
        "outputId": "9209e5a4-14ed-4965-88f0-f248bd03296c"
      },
      "outputs": [
        {
          "ename": "NameError",
          "evalue": "name 'DependencyScheduler' is not defined",
          "output_type": "error",
          "traceback": [
            "\u001b[0;31m---------------------------------------------------------------------------\u001b[0m",
            "\u001b[0;31mNameError\u001b[0m                                 Traceback (most recent call last)",
            "\u001b[0;32m<ipython-input-7-fc6752d52b98>\u001b[0m in \u001b[0;36m<module>\u001b[0;34m\u001b[0m\n\u001b[1;32m      1\u001b[0m \u001b[0;31m### Slightly more complicated. 4 points.\u001b[0m\u001b[0;34m\u001b[0m\u001b[0;34m\u001b[0m\u001b[0;34m\u001b[0m\u001b[0m\n\u001b[1;32m      2\u001b[0m \u001b[0;34m\u001b[0m\u001b[0m\n\u001b[0;32m----> 3\u001b[0;31m \u001b[0ms\u001b[0m \u001b[0;34m=\u001b[0m \u001b[0mDependencyScheduler\u001b[0m\u001b[0;34m(\u001b[0m\u001b[0;34m)\u001b[0m\u001b[0;34m\u001b[0m\u001b[0;34m\u001b[0m\u001b[0m\n\u001b[0m\u001b[1;32m      4\u001b[0m \u001b[0ms\u001b[0m\u001b[0;34m.\u001b[0m\u001b[0madd_task\u001b[0m\u001b[0;34m(\u001b[0m\u001b[0;34m'a'\u001b[0m\u001b[0;34m,\u001b[0m \u001b[0;34m[\u001b[0m\u001b[0;34m'b'\u001b[0m\u001b[0;34m,\u001b[0m \u001b[0;34m'c'\u001b[0m\u001b[0;34m]\u001b[0m\u001b[0;34m)\u001b[0m\u001b[0;34m\u001b[0m\u001b[0;34m\u001b[0m\u001b[0m\n\u001b[1;32m      5\u001b[0m \u001b[0ms\u001b[0m\u001b[0;34m.\u001b[0m\u001b[0madd_task\u001b[0m\u001b[0;34m(\u001b[0m\u001b[0;34m'b'\u001b[0m\u001b[0;34m,\u001b[0m \u001b[0;34m[\u001b[0m\u001b[0;34m'c'\u001b[0m\u001b[0;34m,\u001b[0m \u001b[0;34m'e'\u001b[0m\u001b[0;34m]\u001b[0m\u001b[0;34m)\u001b[0m\u001b[0;34m\u001b[0m\u001b[0;34m\u001b[0m\u001b[0m\n",
            "\u001b[0;31mNameError\u001b[0m: name 'DependencyScheduler' is not defined"
          ]
        }
      ],
      "source": [
        "### Slightly more complicated. 4 points.\n",
        "\n",
        "s = DependencyScheduler()\n",
        "s.add_task('a', ['b', 'c'])\n",
        "s.add_task('b', ['c', 'e'])\n",
        "assert s.available_tasks == {'e', 'c'}\n",
        "\n",
        "s = DependencyScheduler()\n",
        "s.add_task('a', ['b'])\n",
        "s.add_task('b', ['a'])\n",
        "assert s.available_tasks == set()\n"
      ]
    },
    {
      "cell_type": "code",
      "execution_count": null,
      "metadata": {
        "deletable": false,
        "editable": false,
        "id": "ZCHrD7cg00P7",
        "nbgrader": {
          "checksum": null,
          "grade": true,
          "grade_id": "cell-ffc9113a01b9c5ca",
          "locked": true,
          "points": 10,
          "schema_version": 3,
          "solution": false
        }
      },
      "outputs": [],
      "source": [
        "### For this question, you received 10 out of 10 points.\n",
        "\n",
        "# Hidden tests, 6 points.\n",
        "\n"
      ]
    },
    {
      "cell_type": "code",
      "execution_count": null,
      "metadata": {
        "deletable": false,
        "editable": false,
        "id": "go4r3TuO00P7",
        "nbgrader": {
          "checksum": null,
          "grade": false,
          "grade_id": "cell-79d339c60d72e4f9",
          "locked": true,
          "schema_version": 3,
          "solution": false
        },
        "outputId": "c429466d-3c56-468f-8bcf-571d1d13fa80"
      },
      "outputs": [
        {
          "ename": "NameError",
          "evalue": "name 'DependencyScheduler' is not defined",
          "output_type": "error",
          "traceback": [
            "\u001b[0;31m---------------------------------------------------------------------------\u001b[0m",
            "\u001b[0;31mNameError\u001b[0m                                 Traceback (most recent call last)",
            "\u001b[0;32m<ipython-input-9-acdc0c9fd6ba>\u001b[0m in \u001b[0;36m<module>\u001b[0;34m\u001b[0m\n\u001b[1;32m      1\u001b[0m \u001b[0;31m### Now, let's test `mark_completed`.  Simple tests first. 2 points.\u001b[0m\u001b[0;34m\u001b[0m\u001b[0;34m\u001b[0m\u001b[0;34m\u001b[0m\u001b[0m\n\u001b[1;32m      2\u001b[0m \u001b[0;34m\u001b[0m\u001b[0m\n\u001b[0;32m----> 3\u001b[0;31m \u001b[0ms\u001b[0m \u001b[0;34m=\u001b[0m \u001b[0mDependencyScheduler\u001b[0m\u001b[0;34m(\u001b[0m\u001b[0;34m)\u001b[0m\u001b[0;34m\u001b[0m\u001b[0;34m\u001b[0m\u001b[0m\n\u001b[0m\u001b[1;32m      4\u001b[0m \u001b[0ms\u001b[0m\u001b[0;34m.\u001b[0m\u001b[0madd_task\u001b[0m\u001b[0;34m(\u001b[0m\u001b[0;34m'a'\u001b[0m\u001b[0;34m,\u001b[0m \u001b[0;34m[\u001b[0m\u001b[0;34m]\u001b[0m\u001b[0;34m)\u001b[0m\u001b[0;34m\u001b[0m\u001b[0;34m\u001b[0m\u001b[0m\n\u001b[1;32m      5\u001b[0m \u001b[0;32massert\u001b[0m \u001b[0ms\u001b[0m\u001b[0;34m.\u001b[0m\u001b[0mavailable_tasks\u001b[0m\u001b[0;34m,\u001b[0m \u001b[0;34m{\u001b[0m\u001b[0;34m'a'\u001b[0m\u001b[0;34m}\u001b[0m\u001b[0;34m\u001b[0m\u001b[0;34m\u001b[0m\u001b[0m\n",
            "\u001b[0;31mNameError\u001b[0m: name 'DependencyScheduler' is not defined"
          ]
        }
      ],
      "source": [
        "### Now, let's test `mark_completed`.  Simple tests first. 2 points.\n",
        "\n",
        "s = DependencyScheduler()\n",
        "s.add_task('a', [])\n",
        "assert s.available_tasks, {'a'}\n",
        "r = s.mark_completed('a')\n",
        "assert r == set()\n",
        "\n",
        "s = DependencyScheduler()\n",
        "s.add_task('a', ['b'])\n",
        "assert s.available_tasks == {'b'}\n",
        "r = s.mark_completed('b')\n",
        "assert r == {'a'}\n"
      ]
    },
    {
      "cell_type": "code",
      "execution_count": null,
      "metadata": {
        "deletable": false,
        "editable": false,
        "id": "XqFkSY1Z00P8",
        "nbgrader": {
          "checksum": null,
          "grade": true,
          "grade_id": "cell-a896ad1ca4839d5b",
          "locked": true,
          "points": 10,
          "schema_version": 3,
          "solution": false
        }
      },
      "outputs": [],
      "source": [
        "### For this question, you received 10 out of 10 points.\n",
        "\n",
        "### Hidden tests.  3 points.\n",
        "\n",
        "\n"
      ]
    },
    {
      "cell_type": "code",
      "execution_count": null,
      "metadata": {
        "deletable": false,
        "editable": false,
        "id": "Lh1iZ41z00P8",
        "nbgrader": {
          "checksum": null,
          "grade": false,
          "grade_id": "cell-b56edac1d8a11590",
          "locked": true,
          "schema_version": 3,
          "solution": false
        },
        "outputId": "d933fb0c-5300-4263-8c0c-11f954857e45"
      },
      "outputs": [
        {
          "ename": "NameError",
          "evalue": "name 'DependencyScheduler' is not defined",
          "output_type": "error",
          "traceback": [
            "\u001b[0;31m---------------------------------------------------------------------------\u001b[0m",
            "\u001b[0;31mNameError\u001b[0m                                 Traceback (most recent call last)",
            "\u001b[0;32m<ipython-input-11-d2c5b86ffa25>\u001b[0m in \u001b[0;36m<module>\u001b[0;34m\u001b[0m\n\u001b[1;32m      4\u001b[0m     \u001b[0;32massert\u001b[0m \u001b[0ma\u001b[0m \u001b[0;34m==\u001b[0m \u001b[0mb\u001b[0m\u001b[0;34m\u001b[0m\u001b[0;34m\u001b[0m\u001b[0m\n\u001b[1;32m      5\u001b[0m \u001b[0;34m\u001b[0m\u001b[0m\n\u001b[0;32m----> 6\u001b[0;31m \u001b[0ms\u001b[0m \u001b[0;34m=\u001b[0m \u001b[0mDependencyScheduler\u001b[0m\u001b[0;34m(\u001b[0m\u001b[0;34m)\u001b[0m\u001b[0;34m\u001b[0m\u001b[0;34m\u001b[0m\u001b[0m\n\u001b[0m\u001b[1;32m      7\u001b[0m \u001b[0ms\u001b[0m\u001b[0;34m.\u001b[0m\u001b[0madd_task\u001b[0m\u001b[0;34m(\u001b[0m\u001b[0;34m'a'\u001b[0m\u001b[0;34m,\u001b[0m \u001b[0;34m[\u001b[0m\u001b[0;34m'b'\u001b[0m\u001b[0;34m,\u001b[0m \u001b[0;34m'c'\u001b[0m\u001b[0;34m]\u001b[0m\u001b[0;34m)\u001b[0m\u001b[0;34m\u001b[0m\u001b[0;34m\u001b[0m\u001b[0m\n\u001b[1;32m      8\u001b[0m \u001b[0massert_equal\u001b[0m\u001b[0;34m(\u001b[0m\u001b[0ms\u001b[0m\u001b[0;34m.\u001b[0m\u001b[0mavailable_tasks\u001b[0m\u001b[0;34m,\u001b[0m \u001b[0;34m{\u001b[0m\u001b[0;34m'b'\u001b[0m\u001b[0;34m,\u001b[0m \u001b[0;34m'c'\u001b[0m\u001b[0;34m}\u001b[0m\u001b[0;34m)\u001b[0m\u001b[0;34m\u001b[0m\u001b[0;34m\u001b[0m\u001b[0m\n",
            "\u001b[0;31mNameError\u001b[0m: name 'DependencyScheduler' is not defined"
          ]
        }
      ],
      "source": [
        "### Slightly more complicated. 4 points.\n",
        "\n",
        "def assert_equal(a, b):\n",
        "    assert a == b\n",
        "\n",
        "s = DependencyScheduler()\n",
        "s.add_task('a', ['b', 'c'])\n",
        "assert_equal(s.available_tasks, {'b', 'c'})\n",
        "r = s.mark_completed('b')\n",
        "assert_equal(r, set())\n",
        "assert_equal(s.available_tasks, {'c'})\n",
        "r = s.mark_completed('c')\n",
        "assert_equal(r, {'a'})\n",
        "\n",
        "s = DependencyScheduler()\n",
        "s.add_task('a', ['b', 'c'])\n",
        "s.add_task('b', ['c', 'e'])\n",
        "s.add_task('c', [])\n",
        "assert_equal(s.available_tasks, {'c', 'e'})\n",
        "r = s.mark_completed('e')\n",
        "assert_equal(r, set())\n",
        "r = s.mark_completed('c')\n",
        "assert_equal(r, {'b'})\n",
        "r = s.mark_completed('b')\n",
        "assert_equal(r, {'a'})\n",
        "r = s.mark_completed('a')\n",
        "assert_equal(r, set())\n",
        "assert_equal(s.available_tasks, set())\n",
        "\n"
      ]
    },
    {
      "cell_type": "code",
      "execution_count": null,
      "metadata": {
        "deletable": false,
        "editable": false,
        "id": "oqgNFChI00P8",
        "nbgrader": {
          "checksum": null,
          "grade": true,
          "grade_id": "cell-87c2752de37e2a8",
          "locked": true,
          "points": 10,
          "schema_version": 3,
          "solution": false
        }
      },
      "outputs": [],
      "source": [
        "### For this question, you received 10 out of 10 points.\n",
        "\n",
        "### Hidden tests. 6 points.\n",
        "\n"
      ]
    },
    {
      "cell_type": "markdown",
      "metadata": {
        "deletable": false,
        "editable": false,
        "id": "RXpbxdCm00P8",
        "nbgrader": {
          "checksum": null,
          "grade": false,
          "grade_id": "cell-a6426056635d0c72",
          "locked": true,
          "schema_version": 3,
          "solution": false
        }
      },
      "source": [
        "## Executing the tasks\n",
        "\n",
        "Here is an execution engine for our tasks with dependencies."
      ]
    },
    {
      "cell_type": "code",
      "execution_count": null,
      "metadata": {
        "deletable": false,
        "editable": false,
        "id": "gir8J8p500P8",
        "nbgrader": {
          "checksum": null,
          "grade": false,
          "grade_id": "cell-aa978cf5496abbc2",
          "locked": true,
          "schema_version": 3,
          "solution": false
        }
      },
      "outputs": [],
      "source": [
        "import random\n",
        "\n",
        "def execute_schedule(s, show=False):\n",
        "    s.reset()\n",
        "    in_process = s.available_tasks\n",
        "    print(\"Starting by doing:\", in_process)\n",
        "    while len(in_process) > 0:\n",
        "        # Picks one random task to be the first to be completed.\n",
        "        t = random.choice(list(in_process))\n",
        "        print(\"Completed:\", t)\n",
        "        in_process = in_process - {t} | s.mark_completed(t)\n",
        "        print(\"Now doing:\", in_process)\n",
        "        if show:\n",
        "            s.show()\n",
        "    # Have we done all?\n",
        "    if not s.done:\n",
        "        print(\"Error, there are tasks that could not be completed:\", s.uncompleted)\n"
      ]
    },
    {
      "cell_type": "markdown",
      "metadata": {
        "deletable": false,
        "editable": false,
        "id": "sowlhYrK00P8",
        "nbgrader": {
          "checksum": null,
          "grade": false,
          "grade_id": "cell-71a865ce7e2336cd",
          "locked": true,
          "schema_version": 3,
          "solution": false
        }
      },
      "source": [
        "Let's try it on our old schedule:"
      ]
    },
    {
      "cell_type": "code",
      "execution_count": null,
      "metadata": {
        "colab": {
          "base_uri": "https://localhost:8080/",
          "height": 374
        },
        "deletable": false,
        "editable": false,
        "id": "pmbGILxV00P8",
        "nbgrader": {
          "checksum": null,
          "grade": false,
          "grade_id": "cell-31f59e3893001b26",
          "locked": true,
          "schema_version": 3,
          "solution": false
        },
        "outputId": "d7a64de3-3c33-4bfa-ebc7-81a46200f207"
      },
      "outputs": [
        {
          "ename": "NameError",
          "evalue": "name 'DependencyScheduler' is not defined",
          "output_type": "error",
          "traceback": [
            "\u001b[0;31m---------------------------------------------------------------------------\u001b[0m",
            "\u001b[0;31mNameError\u001b[0m                                 Traceback (most recent call last)",
            "\u001b[0;32m<ipython-input-14-9d8c08495765>\u001b[0m in \u001b[0;36m<module>\u001b[0;34m\u001b[0m\n\u001b[0;32m----> 1\u001b[0;31m \u001b[0ms\u001b[0m \u001b[0;34m=\u001b[0m \u001b[0mDependencyScheduler\u001b[0m\u001b[0;34m(\u001b[0m\u001b[0;34m)\u001b[0m\u001b[0;34m\u001b[0m\u001b[0;34m\u001b[0m\u001b[0m\n\u001b[0m\u001b[1;32m      2\u001b[0m \u001b[0ms\u001b[0m\u001b[0;34m.\u001b[0m\u001b[0madd_task\u001b[0m\u001b[0;34m(\u001b[0m\u001b[0;34m'a'\u001b[0m\u001b[0;34m,\u001b[0m \u001b[0;34m[\u001b[0m\u001b[0;34m'b'\u001b[0m\u001b[0;34m,\u001b[0m \u001b[0;34m'c'\u001b[0m\u001b[0;34m]\u001b[0m\u001b[0;34m)\u001b[0m\u001b[0;34m\u001b[0m\u001b[0;34m\u001b[0m\u001b[0m\n\u001b[1;32m      3\u001b[0m \u001b[0ms\u001b[0m\u001b[0;34m.\u001b[0m\u001b[0madd_task\u001b[0m\u001b[0;34m(\u001b[0m\u001b[0;34m'b'\u001b[0m\u001b[0;34m,\u001b[0m \u001b[0;34m[\u001b[0m\u001b[0;34m'c'\u001b[0m\u001b[0;34m,\u001b[0m \u001b[0;34m'e'\u001b[0m\u001b[0;34m]\u001b[0m\u001b[0;34m)\u001b[0m\u001b[0;34m\u001b[0m\u001b[0;34m\u001b[0m\u001b[0m\n\u001b[1;32m      4\u001b[0m \u001b[0ms\u001b[0m\u001b[0;34m.\u001b[0m\u001b[0m_check\u001b[0m\u001b[0;34m(\u001b[0m\u001b[0;34m)\u001b[0m\u001b[0;34m\u001b[0m\u001b[0;34m\u001b[0m\u001b[0m\n\u001b[1;32m      5\u001b[0m \u001b[0ms\u001b[0m\u001b[0;34m.\u001b[0m\u001b[0mshow\u001b[0m\u001b[0;34m(\u001b[0m\u001b[0;34m)\u001b[0m\u001b[0;34m\u001b[0m\u001b[0;34m\u001b[0m\u001b[0m\n",
            "\u001b[0;31mNameError\u001b[0m: name 'DependencyScheduler' is not defined"
          ]
        }
      ],
      "source": [
        "s = DependencyScheduler()\n",
        "s.add_task('a', ['b', 'c'])\n",
        "s.add_task('b', ['c', 'e'])\n",
        "s._check()\n",
        "s.show()\n"
      ]
    },
    {
      "cell_type": "code",
      "execution_count": null,
      "metadata": {
        "colab": {
          "base_uri": "https://localhost:8080/",
          "height": 1000
        },
        "deletable": false,
        "editable": false,
        "id": "IT-Hpzv-00P8",
        "nbgrader": {
          "checksum": null,
          "grade": false,
          "grade_id": "cell-7026f384fe835b03",
          "locked": true,
          "schema_version": 3,
          "solution": false
        },
        "outputId": "a5f7ef44-42b8-4336-87a6-20c651ebddb2"
      },
      "outputs": [
        {
          "ename": "NameError",
          "evalue": "name 's' is not defined",
          "output_type": "error",
          "traceback": [
            "\u001b[0;31m---------------------------------------------------------------------------\u001b[0m",
            "\u001b[0;31mNameError\u001b[0m                                 Traceback (most recent call last)",
            "\u001b[0;32m<ipython-input-15-d7e3707f6a66>\u001b[0m in \u001b[0;36m<module>\u001b[0;34m\u001b[0m\n\u001b[0;32m----> 1\u001b[0;31m \u001b[0mexecute_schedule\u001b[0m\u001b[0;34m(\u001b[0m\u001b[0ms\u001b[0m\u001b[0;34m,\u001b[0m \u001b[0mshow\u001b[0m\u001b[0;34m=\u001b[0m\u001b[0;32mTrue\u001b[0m\u001b[0;34m)\u001b[0m\u001b[0;34m\u001b[0m\u001b[0;34m\u001b[0m\u001b[0m\n\u001b[0m",
            "\u001b[0;31mNameError\u001b[0m: name 's' is not defined"
          ]
        }
      ],
      "source": [
        "execute_schedule(s, show=True)\n"
      ]
    },
    {
      "cell_type": "markdown",
      "metadata": {
        "deletable": false,
        "editable": false,
        "id": "QfV5AnBA00P8",
        "nbgrader": {
          "checksum": null,
          "grade": false,
          "grade_id": "cell-1484146c86106a8f",
          "locked": true,
          "schema_version": 3,
          "solution": false
        }
      },
      "source": [
        "What happens if there is a loop?"
      ]
    },
    {
      "cell_type": "code",
      "execution_count": null,
      "metadata": {
        "colab": {
          "base_uri": "https://localhost:8080/"
        },
        "deletable": false,
        "editable": false,
        "id": "4iTldWcF00P8",
        "nbgrader": {
          "checksum": null,
          "grade": false,
          "grade_id": "cell-7f439d17cdf93558",
          "locked": true,
          "schema_version": 3,
          "solution": false
        },
        "outputId": "ca16cc97-6bf7-4126-b592-c4ac026c0e76"
      },
      "outputs": [
        {
          "ename": "NameError",
          "evalue": "name 'DependencyScheduler' is not defined",
          "output_type": "error",
          "traceback": [
            "\u001b[0;31m---------------------------------------------------------------------------\u001b[0m",
            "\u001b[0;31mNameError\u001b[0m                                 Traceback (most recent call last)",
            "\u001b[0;32m<ipython-input-16-4fd98b14e2f0>\u001b[0m in \u001b[0;36m<module>\u001b[0;34m\u001b[0m\n\u001b[0;32m----> 1\u001b[0;31m \u001b[0ms\u001b[0m \u001b[0;34m=\u001b[0m \u001b[0mDependencyScheduler\u001b[0m\u001b[0;34m(\u001b[0m\u001b[0;34m)\u001b[0m\u001b[0;34m\u001b[0m\u001b[0;34m\u001b[0m\u001b[0m\n\u001b[0m\u001b[1;32m      2\u001b[0m \u001b[0ms\u001b[0m\u001b[0;34m.\u001b[0m\u001b[0madd_task\u001b[0m\u001b[0;34m(\u001b[0m\u001b[0;34m'a'\u001b[0m\u001b[0;34m,\u001b[0m \u001b[0;34m[\u001b[0m\u001b[0;34m'b'\u001b[0m\u001b[0;34m]\u001b[0m\u001b[0;34m)\u001b[0m\u001b[0;34m\u001b[0m\u001b[0;34m\u001b[0m\u001b[0m\n\u001b[1;32m      3\u001b[0m \u001b[0ms\u001b[0m\u001b[0;34m.\u001b[0m\u001b[0madd_task\u001b[0m\u001b[0;34m(\u001b[0m\u001b[0;34m'b'\u001b[0m\u001b[0;34m,\u001b[0m \u001b[0;34m[\u001b[0m\u001b[0;34m'a'\u001b[0m\u001b[0;34m]\u001b[0m\u001b[0;34m)\u001b[0m\u001b[0;34m\u001b[0m\u001b[0;34m\u001b[0m\u001b[0m\n\u001b[1;32m      4\u001b[0m \u001b[0ms\u001b[0m\u001b[0;34m.\u001b[0m\u001b[0madd_task\u001b[0m\u001b[0;34m(\u001b[0m\u001b[0;34m'c'\u001b[0m\u001b[0;34m,\u001b[0m \u001b[0;34m[\u001b[0m\u001b[0;34m'a'\u001b[0m\u001b[0;34m]\u001b[0m\u001b[0;34m)\u001b[0m\u001b[0;34m\u001b[0m\u001b[0;34m\u001b[0m\u001b[0m\n\u001b[1;32m      5\u001b[0m \u001b[0mexecute_schedule\u001b[0m\u001b[0;34m(\u001b[0m\u001b[0ms\u001b[0m\u001b[0;34m)\u001b[0m\u001b[0;34m\u001b[0m\u001b[0;34m\u001b[0m\u001b[0m\n",
            "\u001b[0;31mNameError\u001b[0m: name 'DependencyScheduler' is not defined"
          ]
        }
      ],
      "source": [
        "s = DependencyScheduler()\n",
        "s.add_task('a', ['b'])\n",
        "s.add_task('b', ['a'])\n",
        "s.add_task('c', ['a'])\n",
        "execute_schedule(s)\n"
      ]
    },
    {
      "cell_type": "markdown",
      "metadata": {
        "deletable": false,
        "editable": false,
        "id": "sTCfgmtt00P8",
        "nbgrader": {
          "checksum": null,
          "grade": false,
          "grade_id": "cell-32c87f25e5a1f9a8",
          "locked": true,
          "schema_version": 3,
          "solution": false
        }
      },
      "source": [
        "Ok, this is reasonable!  Let us now encode our Carbonara pasta recipe."
      ]
    },
    {
      "cell_type": "code",
      "execution_count": null,
      "metadata": {
        "colab": {
          "base_uri": "https://localhost:8080/",
          "height": 374
        },
        "deletable": false,
        "editable": false,
        "id": "M43-WY0t00P8",
        "nbgrader": {
          "checksum": null,
          "grade": false,
          "grade_id": "cell-1b2e68f8d51d0bef",
          "locked": true,
          "schema_version": 3,
          "solution": false
        },
        "outputId": "75b26bb8-db97-45b9-c042-50f7ce41db66"
      },
      "outputs": [
        {
          "ename": "NameError",
          "evalue": "name 'DependencyScheduler' is not defined",
          "output_type": "error",
          "traceback": [
            "\u001b[0;31m---------------------------------------------------------------------------\u001b[0m",
            "\u001b[0;31mNameError\u001b[0m                                 Traceback (most recent call last)",
            "\u001b[0;32m<ipython-input-17-6a29c42a920f>\u001b[0m in \u001b[0;36m<module>\u001b[0;34m\u001b[0m\n\u001b[0;32m----> 1\u001b[0;31m \u001b[0mcarbonara\u001b[0m \u001b[0;34m=\u001b[0m \u001b[0mDependencyScheduler\u001b[0m\u001b[0;34m(\u001b[0m\u001b[0;34m)\u001b[0m\u001b[0;34m\u001b[0m\u001b[0;34m\u001b[0m\u001b[0m\n\u001b[0m\u001b[1;32m      2\u001b[0m \u001b[0;34m\u001b[0m\u001b[0m\n\u001b[1;32m      3\u001b[0m \u001b[0;31m# First, the part about cooking the pancetta.\u001b[0m\u001b[0;34m\u001b[0m\u001b[0;34m\u001b[0m\u001b[0;34m\u001b[0m\u001b[0m\n\u001b[1;32m      4\u001b[0m \u001b[0mcarbonara\u001b[0m\u001b[0;34m.\u001b[0m\u001b[0madd_task\u001b[0m\u001b[0;34m(\u001b[0m\u001b[0;34m'dice onions'\u001b[0m\u001b[0;34m,\u001b[0m \u001b[0;34m[\u001b[0m\u001b[0;34m]\u001b[0m\u001b[0;34m)\u001b[0m\u001b[0;34m\u001b[0m\u001b[0;34m\u001b[0m\u001b[0m\n\u001b[1;32m      5\u001b[0m \u001b[0mcarbonara\u001b[0m\u001b[0;34m.\u001b[0m\u001b[0madd_task\u001b[0m\u001b[0;34m(\u001b[0m\u001b[0;34m'dice pancetta'\u001b[0m\u001b[0;34m,\u001b[0m \u001b[0;34m[\u001b[0m\u001b[0;34m]\u001b[0m\u001b[0;34m)\u001b[0m\u001b[0;34m\u001b[0m\u001b[0;34m\u001b[0m\u001b[0m\n",
            "\u001b[0;31mNameError\u001b[0m: name 'DependencyScheduler' is not defined"
          ]
        }
      ],
      "source": [
        "carbonara = DependencyScheduler()\n",
        "\n",
        "# First, the part about cooking the pancetta.\n",
        "carbonara.add_task('dice onions', [])\n",
        "carbonara.add_task('dice pancetta', [])\n",
        "carbonara.add_task('put oil and butter in pan', [])\n",
        "carbonara.add_task('put pancetta in pan', ['dice pancetta'])\n",
        "carbonara.add_task('put onions in pan', ['dice onions'])\n",
        "carbonara.add_task('cook pancetta', ['put oil and butter in pan',\n",
        "                                     'put pancetta in pan',\n",
        "                                     'put onions in pan'])\n",
        "\n",
        "# Second, the part about beating the eggs.\n",
        "carbonara.add_task('put eggs in bowl', [])\n",
        "carbonara.add_task('beat eggs', ['put eggs in bowl'])\n",
        "\n",
        "# Third, cooking the pasta.\n",
        "carbonara.add_task('fill pot with water', [])\n",
        "carbonara.add_task('bring pot of water to a boil', ['fill pot with water'])\n",
        "carbonara.add_task('add salt to water', ['bring pot of water to a boil'])\n",
        "carbonara.add_task('put pasta in water', ['bring pot of water to a boil',\n",
        "                                         'add salt to water'])\n",
        "carbonara.add_task('colander pasta', ['put pasta in water'])\n",
        "\n",
        "# And finally, we can put everything together.\n",
        "carbonara.add_task('serve', ['beat eggs', 'cook pancetta', 'colander pasta'])\n",
        "\n",
        "# Let's look at our schedule!\n",
        "carbonara.show()\n"
      ]
    },
    {
      "cell_type": "code",
      "execution_count": null,
      "metadata": {
        "colab": {
          "base_uri": "https://localhost:8080/"
        },
        "deletable": false,
        "editable": false,
        "id": "rg5csR5m00P8",
        "nbgrader": {
          "checksum": null,
          "grade": false,
          "grade_id": "cell-501a63db9f92bf3d",
          "locked": true,
          "schema_version": 3,
          "solution": false
        },
        "outputId": "3f4a2952-8204-452e-cec7-db9ba3d5ed25"
      },
      "outputs": [
        {
          "ename": "NameError",
          "evalue": "name 'carbonara' is not defined",
          "output_type": "error",
          "traceback": [
            "\u001b[0;31m---------------------------------------------------------------------------\u001b[0m",
            "\u001b[0;31mNameError\u001b[0m                                 Traceback (most recent call last)",
            "\u001b[0;32m<ipython-input-18-bad9d8cf7895>\u001b[0m in \u001b[0;36m<module>\u001b[0;34m\u001b[0m\n\u001b[1;32m      1\u001b[0m \u001b[0;31m# And let's finally prepare carbonara!\u001b[0m\u001b[0;34m\u001b[0m\u001b[0;34m\u001b[0m\u001b[0;34m\u001b[0m\u001b[0m\n\u001b[0;32m----> 2\u001b[0;31m \u001b[0mexecute_schedule\u001b[0m\u001b[0;34m(\u001b[0m\u001b[0mcarbonara\u001b[0m\u001b[0;34m)\u001b[0m\u001b[0;34m\u001b[0m\u001b[0;34m\u001b[0m\u001b[0m\n\u001b[0m",
            "\u001b[0;31mNameError\u001b[0m: name 'carbonara' is not defined"
          ]
        }
      ],
      "source": [
        "# And let's finally prepare carbonara!\n",
        "execute_schedule(carbonara)\n"
      ]
    },
    {
      "cell_type": "markdown",
      "metadata": {
        "deletable": false,
        "editable": false,
        "id": "QpvXQ4f800P9",
        "nbgrader": {
          "checksum": null,
          "grade": false,
          "grade_id": "cell-3eaee8aecfbfbe89",
          "locked": true,
          "schema_version": 3,
          "solution": false
        }
      },
      "source": [
        "This is not necessarily the best order of actions to prepare pasta carbonara, but it definitely works as a schedule."
      ]
    },
    {
      "cell_type": "markdown",
      "metadata": {
        "deletable": false,
        "editable": false,
        "id": "UNPEH45J00P9",
        "nbgrader": {
          "checksum": null,
          "grade": false,
          "grade_id": "cell-88d0cd76e6aae2a8",
          "locked": true,
          "schema_version": 3,
          "solution": false
        }
      },
      "source": [
        "## Building a Better Execution Engine"
      ]
    },
    {
      "cell_type": "markdown",
      "metadata": {
        "deletable": false,
        "editable": false,
        "id": "LCqpFVYV00P9",
        "nbgrader": {
          "checksum": null,
          "grade": false,
          "grade_id": "cell-3059e2a43464a134",
          "locked": true,
          "schema_version": 3,
          "solution": false
        }
      },
      "source": [
        "Let us build a better execution engine for our schedules.  Right now, we have a function:"
      ]
    },
    {
      "cell_type": "code",
      "execution_count": null,
      "metadata": {
        "deletable": false,
        "editable": false,
        "id": "9rnYt6Yx00P9",
        "nbgrader": {
          "checksum": null,
          "grade": false,
          "grade_id": "cell-6044d832e61a445c",
          "locked": true,
          "schema_version": 3,
          "solution": false
        }
      },
      "outputs": [],
      "source": [
        "def execute_schedule(s, show=False):\n",
        "    s.reset()\n",
        "    in_process = s.available_tasks\n",
        "    print(\"Starting by doing:\", in_process)\n",
        "    while len(in_process) > 0:\n",
        "        # Picks one random task to be the first to be completed.\n",
        "        t = random.choice(list(in_process))\n",
        "        print(\"Completed:\", t)\n",
        "        in_process = in_process - {t} | s.mark_completed(t)\n",
        "        print(\"Now doing:\", in_process)\n",
        "        if show:\n",
        "            s.show()\n",
        "    # Have we done all?\n",
        "    if not s.done:\n",
        "        print(\"Error, there are tasks that could not be completed:\", s.uncompleted)\n"
      ]
    },
    {
      "cell_type": "markdown",
      "metadata": {
        "deletable": false,
        "editable": false,
        "id": "-xd9QaAI00P9",
        "nbgrader": {
          "checksum": null,
          "grade": false,
          "grade_id": "cell-7111b63daca4dd9d",
          "locked": true,
          "schema_version": 3,
          "solution": false
        }
      },
      "source": [
        "We want to wrap these methods into a class, RunSchedule.  This will allow us more flexibility in executing a schedule, as we will be able to specify parameters that guide the execution policy, interrupt and resume the execution, and so on.  \n",
        "An object of class RunSchedule is initialized with a DependencyScheduler.  It then has the following methods:\n",
        "\n",
        "* **reset:** mark all tasks as not completed.\n",
        "* **step:** perform one step in the schedule, completing a single task.\n",
        "* **run:** performs all steps in the schedule, until completion.\n",
        "* **done:** indicates that all tasks have been done.\n",
        "\n",
        "What should these methods return?  _step_ will return the task executed, while _run_ will return the whole list of tasks, in the order in which they were done."
      ]
    },
    {
      "cell_type": "code",
      "execution_count": null,
      "metadata": {
        "deletable": false,
        "editable": false,
        "id": "_JOJCYSq00P9",
        "nbgrader": {
          "checksum": null,
          "grade": false,
          "grade_id": "cell-bb17a0fcf641dcf1",
          "locked": true,
          "schema_version": 3,
          "solution": false
        }
      },
      "outputs": [],
      "source": [
        "class RunSchedule(object):\n",
        "\n",
        "    def __init__(self, scheduler):\n",
        "        self.scheduler = scheduler\n",
        "        self.in_process = None # Indicating, we don't know yet.\n",
        "\n",
        "    def reset(self):\n",
        "        self.scheduler.reset()\n",
        "        self.in_process = None\n",
        "\n",
        "    def step(self):\n",
        "        \"\"\"Performs a step, returning the task, if any, or None,\n",
        "        if there is no step that can be done.\"\"\"\n",
        "        # If we don't know what steps are in process, we get them.\n",
        "        if self.in_process is None:\n",
        "            self.in_process = self.scheduler.available_tasks\n",
        "        if len(self.in_process) == 0:\n",
        "            return None\n",
        "        t = random.choice(list(self.in_process))\n",
        "        self.in_process = self.in_process - {t} | self.scheduler.mark_completed(t)\n",
        "        return t\n",
        "\n",
        "    @property\n",
        "    def done(self):\n",
        "        return self.scheduler.done\n",
        "\n",
        "    def run(self):\n",
        "        \"\"\"Runs the scheduler from the current configuration to completion.\n",
        "        You must call reset() first, if you want to run the whole schedule.\"\"\"\n",
        "        tasks = []\n",
        "        while not self.done:\n",
        "            t = self.step()\n",
        "            if t is not None:\n",
        "                tasks.append(t)\n",
        "        return tasks\n"
      ]
    },
    {
      "cell_type": "markdown",
      "metadata": {
        "deletable": false,
        "editable": false,
        "id": "AQ1jYKUC00P9",
        "nbgrader": {
          "checksum": null,
          "grade": false,
          "grade_id": "cell-16fe8e436c1dd550",
          "locked": true,
          "schema_version": 3,
          "solution": false
        }
      },
      "source": [
        "We can run our pasta carbonara with this RunSchedule class:"
      ]
    },
    {
      "cell_type": "code",
      "execution_count": null,
      "metadata": {
        "colab": {
          "base_uri": "https://localhost:8080/"
        },
        "deletable": false,
        "editable": false,
        "id": "8B6OojKU00P9",
        "nbgrader": {
          "checksum": null,
          "grade": false,
          "grade_id": "cell-ceb6524af5064661",
          "locked": true,
          "schema_version": 3,
          "solution": false
        },
        "outputId": "f4045281-e49d-46dd-988f-6e570350ecde"
      },
      "outputs": [
        {
          "ename": "NameError",
          "evalue": "name 'carbonara' is not defined",
          "output_type": "error",
          "traceback": [
            "\u001b[0;31m---------------------------------------------------------------------------\u001b[0m",
            "\u001b[0;31mNameError\u001b[0m                                 Traceback (most recent call last)",
            "\u001b[0;32m<ipython-input-21-e4816669e4cc>\u001b[0m in \u001b[0;36m<module>\u001b[0;34m\u001b[0m\n\u001b[0;32m----> 1\u001b[0;31m \u001b[0mrunner\u001b[0m \u001b[0;34m=\u001b[0m \u001b[0mRunSchedule\u001b[0m\u001b[0;34m(\u001b[0m\u001b[0mcarbonara\u001b[0m\u001b[0;34m)\u001b[0m\u001b[0;34m\u001b[0m\u001b[0;34m\u001b[0m\u001b[0m\n\u001b[0m\u001b[1;32m      2\u001b[0m \u001b[0mrunner\u001b[0m\u001b[0;34m.\u001b[0m\u001b[0mreset\u001b[0m\u001b[0;34m(\u001b[0m\u001b[0;34m)\u001b[0m\u001b[0;34m\u001b[0m\u001b[0;34m\u001b[0m\u001b[0m\n\u001b[1;32m      3\u001b[0m \u001b[0mrunner\u001b[0m\u001b[0;34m.\u001b[0m\u001b[0mrun\u001b[0m\u001b[0;34m(\u001b[0m\u001b[0;34m)\u001b[0m\u001b[0;34m\u001b[0m\u001b[0;34m\u001b[0m\u001b[0m\n",
            "\u001b[0;31mNameError\u001b[0m: name 'carbonara' is not defined"
          ]
        }
      ],
      "source": [
        "runner = RunSchedule(carbonara)\n",
        "runner.reset()\n",
        "runner.run()\n"
      ]
    },
    {
      "cell_type": "markdown",
      "metadata": {
        "deletable": false,
        "editable": false,
        "id": "V5ii3a4500P9",
        "nbgrader": {
          "checksum": null,
          "grade": false,
          "grade_id": "cell-60f22d3afbfbf156",
          "locked": true,
          "schema_version": 3,
          "solution": false
        }
      },
      "source": [
        "Let us pause for a moment and ask: did we really need to create a new class? Could we not have done the above in the scheduler class?\n",
        "\n",
        "This is debatable.  The idea in keeping the two classes separate is clarity of goals:\n",
        "\n",
        "* The scheduler is concerned with what _can_ be done next.\n",
        "* The runner is concerned with any practical constraint to the execution, and with the choice of _what_, among the possible, is actually done.\n",
        "\n",
        "We will have occasion below to rely on this division of concerns."
      ]
    },
    {
      "cell_type": "markdown",
      "metadata": {
        "deletable": false,
        "editable": false,
        "id": "OSWH2Wg100P9",
        "nbgrader": {
          "checksum": null,
          "grade": false,
          "grade_id": "cell-eac44239c3a931dc",
          "locked": true,
          "schema_version": 3,
          "solution": false
        }
      },
      "source": [
        "### Code changes and rotten eggs"
      ]
    },
    {
      "cell_type": "markdown",
      "metadata": {
        "deletable": false,
        "editable": false,
        "id": "tajpwGYh00P9",
        "nbgrader": {
          "checksum": null,
          "grade": false,
          "grade_id": "cell-4ab44feb39050768",
          "locked": true,
          "schema_version": 3,
          "solution": false
        }
      },
      "source": [
        "#### Code changes\n",
        "\n",
        "Imagine that you need to compile three programs, `a`, `b`, `c`, and then link together the results into `f.out`.   Once this is done, you compile `d` and `e`, and link into `g.out`.  As the last step, you link the two libraries `g.out` and `f.out` together, and produce `h`. You do it once.  Great.  But now you realize that you need to change `b`.  Do you have to start from scratch?\n",
        "\n",
        "You may think, who cares, it's the CPU doing the work, not me.  Fair enough, but there are some large systems that take minutes, dozen of minutes, to compile.  If you are compiling the linux kernel on a low power CPU, it might take hours.  Surely you don't want to redo everything from scratch!  \n",
        "\n",
        "So imagine you have the tasks in an intermediate state, with some being completed (possibly all of them), and some not.  You can now mark one of the tasks as incomplete, to signal you need to do it again.  What is the set of tasks that as a consequence should also be marked incomplete?\n",
        "If you have two tasks $x$ and $y$, with $y$ being a successor to $x$, if $x$ is marked as \"undone\" as it needs to be redone, then also $y$ will need to be redone, as it might use the results of $x$.\n",
        "\n",
        "To implement this, we will perform two modifications.  First, we will endow our scheduler with a _redo_ method, which marks a task and all its successors (and the successors of the successors, and so forth) to be redone -- that is, it _unmarks_ them as done.  We let you implement this; you have already seen how to compute reachability in the graph chapter.\n"
      ]
    },
    {
      "cell_type": "markdown",
      "metadata": {
        "deletable": false,
        "editable": false,
        "id": "2t6jmVUI00P9",
        "nbgrader": {
          "checksum": null,
          "grade": false,
          "grade_id": "cell-73c31a9d7b8dfa39",
          "locked": true,
          "schema_version": 3,
          "solution": false
        }
      },
      "source": [
        "## Question 2: redo for code"
      ]
    },
    {
      "cell_type": "code",
      "execution_count": null,
      "metadata": {
        "deletable": false,
        "id": "EBrGnmZM00P9",
        "nbgrader": {
          "checksum": null,
          "grade": false,
          "grade_id": "cell-5c2241eb38e63879",
          "locked": false,
          "schema_version": 3,
          "solution": true
        },
        "outputId": "65f88fbf-f307-48a2-e752-094f8eab0310"
      },
      "outputs": [
        {
          "ename": "NameError",
          "evalue": "name 'DependencyScheduler' is not defined",
          "output_type": "error",
          "traceback": [
            "\u001b[0;31m---------------------------------------------------------------------------\u001b[0m",
            "\u001b[0;31mNameError\u001b[0m                                 Traceback (most recent call last)",
            "\u001b[0;32m<ipython-input-22-9b3910d29ad6>\u001b[0m in \u001b[0;36m<module>\u001b[0;34m\u001b[0m\n\u001b[1;32m     16\u001b[0m     \u001b[0;32mreturn\u001b[0m \u001b[0msett\u001b[0m\u001b[0;34m\u001b[0m\u001b[0;34m\u001b[0m\u001b[0m\n\u001b[1;32m     17\u001b[0m \u001b[0;34m\u001b[0m\u001b[0m\n\u001b[0;32m---> 18\u001b[0;31m \u001b[0mDependencyScheduler\u001b[0m\u001b[0;34m.\u001b[0m\u001b[0mredo\u001b[0m \u001b[0;34m=\u001b[0m \u001b[0mdependency_scheduler_redo\u001b[0m\u001b[0;34m\u001b[0m\u001b[0;34m\u001b[0m\u001b[0m\n\u001b[0m",
            "\u001b[0;31mNameError\u001b[0m: name 'DependencyScheduler' is not defined"
          ]
        }
      ],
      "source": [
        "from IPython.core.display import set_matplotlib_formats\n",
        "### Implementation of `redo`\n",
        "\n",
        "def dependency_scheduler_redo(self, t):\n",
        "    \"\"\"Mark the task t, and all its successors, as undone.\n",
        "    Returns the set of successor tasks of t, with t included.\"\"\"\n",
        "    # YOUR CODE HERE\n",
        "    sets = {t}\n",
        "    sett = set()\n",
        "    while len(sets) > 0:\n",
        "        u = sets.pop()\n",
        "        sett.add(u)\n",
        "        sets.update(self.successors[u] - sett)\n",
        "        if u in self.completed_tasks:\n",
        "            self.completed_tasks.remove(u)\n",
        "    return sett\n",
        "\n",
        "DependencyScheduler.redo = dependency_scheduler_redo\n"
      ]
    },
    {
      "cell_type": "code",
      "execution_count": null,
      "metadata": {
        "deletable": false,
        "id": "kuhj-8hO00P9",
        "nbgrader": {
          "checksum": null,
          "grade": false,
          "grade_id": "cell-e07ab8f281f758fd",
          "locked": false,
          "schema_version": 3,
          "solution": true
        }
      },
      "outputs": [],
      "source": [
        "# Here is a place where you can test your code.\n",
        "\n",
        "# YOUR CODE HERE\n"
      ]
    },
    {
      "cell_type": "markdown",
      "metadata": {
        "deletable": false,
        "editable": false,
        "id": "eYK4ge_V00P9",
        "nbgrader": {
          "checksum": null,
          "grade": false,
          "grade_id": "cell-fa9f2619f7f84922",
          "locked": true,
          "schema_version": 3,
          "solution": false
        }
      },
      "source": [
        "Let us test the implementation."
      ]
    },
    {
      "cell_type": "code",
      "execution_count": null,
      "metadata": {
        "deletable": false,
        "editable": false,
        "id": "0vk4oTim00P9",
        "nbgrader": {
          "checksum": null,
          "grade": false,
          "grade_id": "cell-762cf7f8a43c499",
          "locked": true,
          "schema_version": 3,
          "solution": false
        },
        "outputId": "4b2d004f-20e8-43a5-eaab-a5d1e97e6c67"
      },
      "outputs": [
        {
          "ename": "NameError",
          "evalue": "name 'DependencyScheduler' is not defined",
          "output_type": "error",
          "traceback": [
            "\u001b[0;31m---------------------------------------------------------------------------\u001b[0m",
            "\u001b[0;31mNameError\u001b[0m                                 Traceback (most recent call last)",
            "\u001b[0;32m<ipython-input-24-7b79d53c2802>\u001b[0m in \u001b[0;36m<module>\u001b[0;34m\u001b[0m\n\u001b[1;32m      4\u001b[0m     \u001b[0;32massert\u001b[0m \u001b[0ma\u001b[0m \u001b[0;34m==\u001b[0m \u001b[0mb\u001b[0m\u001b[0;34m\u001b[0m\u001b[0;34m\u001b[0m\u001b[0m\n\u001b[1;32m      5\u001b[0m \u001b[0;34m\u001b[0m\u001b[0m\n\u001b[0;32m----> 6\u001b[0;31m \u001b[0ms\u001b[0m \u001b[0;34m=\u001b[0m \u001b[0mDependencyScheduler\u001b[0m\u001b[0;34m(\u001b[0m\u001b[0;34m)\u001b[0m\u001b[0;34m\u001b[0m\u001b[0;34m\u001b[0m\u001b[0m\n\u001b[0m\u001b[1;32m      7\u001b[0m \u001b[0ms\u001b[0m\u001b[0;34m.\u001b[0m\u001b[0madd_task\u001b[0m\u001b[0;34m(\u001b[0m\u001b[0;34m'a'\u001b[0m\u001b[0;34m,\u001b[0m \u001b[0;34m[\u001b[0m\u001b[0;34m]\u001b[0m\u001b[0;34m)\u001b[0m\u001b[0;34m\u001b[0m\u001b[0;34m\u001b[0m\u001b[0m\n\u001b[1;32m      8\u001b[0m \u001b[0ms\u001b[0m\u001b[0;34m.\u001b[0m\u001b[0madd_task\u001b[0m\u001b[0;34m(\u001b[0m\u001b[0;34m'b'\u001b[0m\u001b[0;34m,\u001b[0m \u001b[0;34m[\u001b[0m\u001b[0;34m'a'\u001b[0m\u001b[0;34m]\u001b[0m\u001b[0;34m)\u001b[0m\u001b[0;34m\u001b[0m\u001b[0;34m\u001b[0m\u001b[0m\n",
            "\u001b[0;31mNameError\u001b[0m: name 'DependencyScheduler' is not defined"
          ]
        }
      ],
      "source": [
        "### Tests for `redo` for code. 5 points.\n",
        "\n",
        "def assert_equal(a, b):\n",
        "    assert a == b\n",
        "\n",
        "s = DependencyScheduler()\n",
        "s.add_task('a', [])\n",
        "s.add_task('b', ['a'])\n",
        "s.add_task('c', ['a'])\n",
        "s.add_task('d', ['b', 'c'])\n",
        "s.add_task('e', ['a', 'd'])\n",
        "\n",
        "s.mark_completed('a')\n",
        "s.mark_completed('b')\n",
        "s.mark_completed('c')\n",
        "assert_equal(s.available_tasks, {'d'})\n",
        "s.redo('b')\n",
        "assert_equal(s.available_tasks, {'b'})\n",
        "\n",
        "# Additional test\n",
        "s = DependencyScheduler()\n",
        "s.add_task('a', [])\n",
        "s.add_task('b', ['a'])\n",
        "s.add_task('c', ['a'])\n",
        "s.add_task('d', ['b', 'c'])\n",
        "s.add_task('e', ['a', 'd'])\n",
        "\n",
        "s.mark_completed('a')\n",
        "s.mark_completed('b')\n",
        "s.mark_completed('c')\n",
        "s.mark_completed('d')\n",
        "s.redo('a')\n",
        "assert_equal(s.available_tasks, {'a'})\n",
        "\n",
        "s = DependencyScheduler()\n",
        "s.add_task('a', [])\n",
        "s.add_task('b', ['a'])\n",
        "s.add_task('c', ['a'])\n",
        "s.add_task('d', ['b', 'c'])\n",
        "s.add_task('e', ['a', 'd'])\n",
        "s.mark_completed('a')\n",
        "s.mark_completed('b')\n",
        "s.mark_completed('c')\n",
        "assert_equal(s.available_tasks, {'d'})\n",
        "s.mark_completed('d')\n",
        "s.mark_completed('e')\n",
        "s.redo('e')\n",
        "assert_equal(s.available_tasks, {'e'})\n"
      ]
    },
    {
      "cell_type": "code",
      "execution_count": null,
      "metadata": {
        "deletable": false,
        "editable": false,
        "id": "JNKYviz800P-",
        "nbgrader": {
          "checksum": null,
          "grade": true,
          "grade_id": "cell-5902c19dc7cd0aab",
          "locked": true,
          "points": 10,
          "schema_version": 3,
          "solution": false
        }
      },
      "outputs": [],
      "source": [
        "### For this question, you received 10 out of 10 points.\n",
        "\n",
        "### Hidden tests.  5 points.\n",
        "\n"
      ]
    },
    {
      "cell_type": "markdown",
      "metadata": {
        "deletable": false,
        "editable": false,
        "id": "gKnd2FCi00P-",
        "nbgrader": {
          "checksum": null,
          "grade": false,
          "grade_id": "cell-4c6f46c82a1f8ecd",
          "locked": true,
          "schema_version": 3,
          "solution": false
        }
      },
      "source": [
        "Next, we implement a runner that has an additional operation _redo(t)_ for a task t."
      ]
    },
    {
      "cell_type": "code",
      "execution_count": null,
      "metadata": {
        "deletable": false,
        "editable": false,
        "id": "9aT7FxHr00P-",
        "nbgrader": {
          "checksum": null,
          "grade": false,
          "grade_id": "cell-4a72a1d9371d8a6e",
          "locked": true,
          "schema_version": 3,
          "solution": false
        }
      },
      "outputs": [],
      "source": [
        "def run_schedule_redo(self, t):\n",
        "    \"\"\"Marks t as to be redone.\"\"\"\n",
        "    # We drop everything that was in progress.\n",
        "    # This also forces us to ask the scheduler for what to redo.\n",
        "    self.in_process = None\n",
        "    return self.scheduler.redo(t)\n",
        "\n",
        "RunSchedule.redo = run_schedule_redo\n"
      ]
    },
    {
      "cell_type": "markdown",
      "metadata": {
        "deletable": false,
        "editable": false,
        "id": "E5I23keX00P-",
        "nbgrader": {
          "checksum": null,
          "grade": false,
          "grade_id": "cell-276acc3cbd6195c8",
          "locked": true,
          "schema_version": 3,
          "solution": false
        }
      },
      "source": [
        "We can now play with it."
      ]
    },
    {
      "cell_type": "code",
      "execution_count": null,
      "metadata": {
        "colab": {
          "base_uri": "https://localhost:8080/"
        },
        "deletable": false,
        "editable": false,
        "id": "VRNVBQbD00P-",
        "nbgrader": {
          "checksum": null,
          "grade": false,
          "grade_id": "cell-eac7b281646b9691",
          "locked": true,
          "schema_version": 3,
          "solution": false
        },
        "outputId": "802521f1-bce0-4ec9-ccd2-fc4aafb925cb"
      },
      "outputs": [
        {
          "ename": "NameError",
          "evalue": "name 'carbonara' is not defined",
          "output_type": "error",
          "traceback": [
            "\u001b[0;31m---------------------------------------------------------------------------\u001b[0m",
            "\u001b[0;31mNameError\u001b[0m                                 Traceback (most recent call last)",
            "\u001b[0;32m<ipython-input-27-4431604e7801>\u001b[0m in \u001b[0;36m<module>\u001b[0;34m\u001b[0m\n\u001b[0;32m----> 1\u001b[0;31m \u001b[0mrunner\u001b[0m \u001b[0;34m=\u001b[0m \u001b[0mRunSchedule\u001b[0m\u001b[0;34m(\u001b[0m\u001b[0mcarbonara\u001b[0m\u001b[0;34m)\u001b[0m\u001b[0;34m\u001b[0m\u001b[0;34m\u001b[0m\u001b[0m\n\u001b[0m\u001b[1;32m      2\u001b[0m \u001b[0mrunner\u001b[0m\u001b[0;34m.\u001b[0m\u001b[0mreset\u001b[0m\u001b[0;34m(\u001b[0m\u001b[0;34m)\u001b[0m\u001b[0;34m\u001b[0m\u001b[0;34m\u001b[0m\u001b[0m\n\u001b[1;32m      3\u001b[0m \u001b[0;32mfor\u001b[0m \u001b[0m_\u001b[0m \u001b[0;32min\u001b[0m \u001b[0mrange\u001b[0m\u001b[0;34m(\u001b[0m\u001b[0;36m10\u001b[0m\u001b[0;34m)\u001b[0m\u001b[0;34m:\u001b[0m\u001b[0;34m\u001b[0m\u001b[0;34m\u001b[0m\u001b[0m\n\u001b[1;32m      4\u001b[0m     \u001b[0mprint\u001b[0m\u001b[0;34m(\u001b[0m\u001b[0mrunner\u001b[0m\u001b[0;34m.\u001b[0m\u001b[0mstep\u001b[0m\u001b[0;34m(\u001b[0m\u001b[0;34m)\u001b[0m\u001b[0;34m)\u001b[0m\u001b[0;34m\u001b[0m\u001b[0;34m\u001b[0m\u001b[0m\n\u001b[1;32m      5\u001b[0m \u001b[0mprint\u001b[0m\u001b[0;34m(\u001b[0m\u001b[0;34m\"---> readd salt\"\u001b[0m\u001b[0;34m)\u001b[0m\u001b[0;34m\u001b[0m\u001b[0;34m\u001b[0m\u001b[0m\n",
            "\u001b[0;31mNameError\u001b[0m: name 'carbonara' is not defined"
          ]
        }
      ],
      "source": [
        "runner = RunSchedule(carbonara)\n",
        "runner.reset()\n",
        "for _ in range(10):\n",
        "    print(runner.step())\n",
        "print(\"---> readd salt\")\n",
        "print(\"marking undone:\", runner.redo(\"add salt to water\"))\n",
        "print(\"completed:\", runner.scheduler.completed_tasks)\n",
        "for _ in range(10):\n",
        "    print(runner.step())\n",
        "print(\"--->redo dice pancetta\")\n",
        "print(\"marking undone:\", runner.redo(\"dice pancetta\"))\n",
        "print(\"completed:\", runner.scheduler.completed_tasks)\n",
        "for t in runner.run():\n",
        "    print(t)\n"
      ]
    },
    {
      "cell_type": "markdown",
      "metadata": {
        "deletable": false,
        "editable": false,
        "id": "vEA__kop00P-",
        "nbgrader": {
          "checksum": null,
          "grade": false,
          "grade_id": "cell-6b3fa4b562e36f9c",
          "locked": true,
          "schema_version": 3,
          "solution": false
        }
      },
      "source": [
        "You have learned to sequence the order in which to do tasks so as to respect their dependencies.  In the next chapter, we will learn how to also take into account the time it takes for us to do the tasks.  In the meantime, bon appetit, or rather, guten appetit, or rather, buon appetito!"
      ]
    },
    {
      "cell_type": "markdown",
      "metadata": {
        "deletable": false,
        "editable": false,
        "id": "FfXKt_A900P-",
        "nbgrader": {
          "checksum": null,
          "grade": false,
          "grade_id": "cell-2515375426bab1bc",
          "locked": true,
          "schema_version": 3,
          "solution": false
        }
      },
      "source": [
        "#### Redoing in cooking\n",
        "\n",
        "The act of redoing a cooking step is somewhat different than the act of redoing something in code.  Suppose you cook pasta, unite with it the fried bacon and onions, and then -- terrible mishap -- you unite with it the beaten egg yolks in which one of the eggs is rotten.\n",
        "\n",
        "In code, when one file changes, you only need to redo the things that _depend_ on that file.  In cooking, it is different: even if nothing changed in the bacon, onions, and cooked pasta, once you add to it rotten eggs you have to redo the pasta, bacon, onions, etc, as well, as they have now been contaminated.  The root of the problem is that in a makefile, when you combine two files to compute a result, you do not destroy the original files, whereas in cooking, once you combine foods, you don't have the original foods any longer.  Cooking is like a makefile in which, once you combine files, you immediately delete them.\n",
        "\n",
        "So let us come up with a precise definition of what needs to be redone in cooking, when one of the steps goes bad (the eggs are rotten, you burn the food on the stove, and so on).\n",
        "\n",
        "Initially, we label _redo_ the task that needs redoing.  We then propagate the label according to these two phases:\n",
        "\n",
        "**Phase 1: Forward**\n",
        "Apply the following rule as long as it can be applied:\n",
        "\n",
        "* Consider a task $v$ labeled _redo_. If $u$ is a successor of $v$ and $u$ is completed, then $u$ is also labeled _redo_.\n",
        "\n",
        "**Phase 2: Backward**\n",
        "Apply the following rule as long as it can be applied:\n",
        "\n",
        "* Consider a task $v$ labeled _redo_. If $u$ is a predecessor of $v$, then $u$ is also labeled _redo_ (note that in this case, we are guaranteed that $u$ is completed).\n",
        "\n",
        "The first rule corresponds to a _forward_ pass in the dependency garph; the second rule corresponds to a _backward_ pass in the dependency relation.\n",
        "Once the _redo_ label is propagated, all tasks that are marked _redo_ are changed from completed, to uncompleted.\n",
        "\n",
        "Note that you have to implement _once_ the forward phase, followed by _once_ the backward phase.  Example: you press some lemons, and you use a bit of the juice to make a mayonnaise, and another part to marinate shrimp.  If it turns out that the egg yolk used for the mayonnaise was rotten, you need to press a bit of lemon again, but you do not need to marinate the shrimp once more.\n",
        "\n",
        "We ask you to implement this in code."
      ]
    },
    {
      "cell_type": "markdown",
      "metadata": {
        "deletable": false,
        "editable": false,
        "id": "Z8ybz4AJ00P-",
        "nbgrader": {
          "checksum": null,
          "grade": false,
          "grade_id": "cell-fbd3379f97b0e463",
          "locked": true,
          "schema_version": 3,
          "solution": false
        }
      },
      "source": [
        "## Question 3: redo for recipes"
      ]
    },
    {
      "cell_type": "code",
      "execution_count": null,
      "metadata": {
        "deletable": false,
        "id": "f-b1xHKq00P-",
        "nbgrader": {
          "checksum": null,
          "grade": false,
          "grade_id": "cell-b2538ed8f81bb26b",
          "locked": false,
          "schema_version": 3,
          "solution": true
        },
        "outputId": "1b77a6da-f551-440e-a543-1a94e9842700"
      },
      "outputs": [
        {
          "ename": "NameError",
          "evalue": "name 'DependencyScheduler' is not defined",
          "output_type": "error",
          "traceback": [
            "\u001b[0;31m---------------------------------------------------------------------------\u001b[0m",
            "\u001b[0;31mNameError\u001b[0m                                 Traceback (most recent call last)",
            "\u001b[0;32m<ipython-input-28-2553ab1f0969>\u001b[0m in \u001b[0;36m<module>\u001b[0;34m\u001b[0m\n\u001b[1;32m     17\u001b[0m     \u001b[0;32mreturn\u001b[0m \u001b[0msett\u001b[0m\u001b[0;34m\u001b[0m\u001b[0;34m\u001b[0m\u001b[0m\n\u001b[1;32m     18\u001b[0m \u001b[0;34m\u001b[0m\u001b[0m\n\u001b[0;32m---> 19\u001b[0;31m \u001b[0mDependencyScheduler\u001b[0m\u001b[0;34m.\u001b[0m\u001b[0mcooking_redo\u001b[0m \u001b[0;34m=\u001b[0m \u001b[0mdependency_scheduler_cooking_redo\u001b[0m\u001b[0;34m\u001b[0m\u001b[0;34m\u001b[0m\u001b[0m\n\u001b[0m",
            "\u001b[0;31mNameError\u001b[0m: name 'DependencyScheduler' is not defined"
          ]
        }
      ],
      "source": [
        "### Implementation of `cooking_redo`\n",
        "\n",
        "def dependency_scheduler_cooking_redo(self, v):\n",
        "    \"\"\"Indicates that the task v needs to be redone, as something went bad.\n",
        "    This is the \"cooking\" version of the redo, in which the redo propagates\n",
        "    to both successors (as for code) and predecessors.\"\"\"\n",
        "    # YOUR CODE HERE\n",
        "    sets = {v}\n",
        "    sett = set()\n",
        "    x = self.successors[v] | self.predecessors[v]\n",
        "    while len(sets) > 0:\n",
        "        u = sets.pop()\n",
        "        sett.add(u)\n",
        "        sets.update(x - sett)\n",
        "        if u in self.completed_tasks:\n",
        "            self.completed_tasks.remove(u)\n",
        "    return sett\n",
        "\n",
        "DependencyScheduler.cooking_redo = dependency_scheduler_cooking_redo\n"
      ]
    },
    {
      "cell_type": "code",
      "execution_count": null,
      "metadata": {
        "deletable": false,
        "id": "mUgbOhEr00P-",
        "nbgrader": {
          "checksum": null,
          "grade": false,
          "grade_id": "cell-65711acc856b7923",
          "locked": false,
          "schema_version": 3,
          "solution": true
        }
      },
      "outputs": [],
      "source": [
        "# Here is a place where you can test your code.\n",
        "\n",
        "# YOUR CODE HERE\n"
      ]
    },
    {
      "cell_type": "markdown",
      "metadata": {
        "deletable": false,
        "editable": false,
        "id": "v_marOl000P-",
        "nbgrader": {
          "checksum": null,
          "grade": false,
          "grade_id": "cell-dd3901a101756821",
          "locked": true,
          "schema_version": 3,
          "solution": false
        }
      },
      "source": [
        "Let us check that the code works.  First, a simple example."
      ]
    },
    {
      "cell_type": "code",
      "execution_count": null,
      "metadata": {
        "deletable": false,
        "editable": false,
        "id": "qwaY_Oda00P-",
        "nbgrader": {
          "checksum": null,
          "grade": false,
          "grade_id": "cell-6eb5a2764d766a22",
          "locked": true,
          "schema_version": 3,
          "solution": false
        },
        "outputId": "9cc83996-088b-4571-8c85-ed85c02d6a96"
      },
      "outputs": [
        {
          "ename": "NameError",
          "evalue": "name 'DependencyScheduler' is not defined",
          "output_type": "error",
          "traceback": [
            "\u001b[0;31m---------------------------------------------------------------------------\u001b[0m",
            "\u001b[0;31mNameError\u001b[0m                                 Traceback (most recent call last)",
            "\u001b[0;32m<ipython-input-30-7087824a9952>\u001b[0m in \u001b[0;36m<module>\u001b[0;34m\u001b[0m\n\u001b[1;32m      4\u001b[0m     \u001b[0;32massert\u001b[0m \u001b[0ma\u001b[0m \u001b[0;34m==\u001b[0m \u001b[0mb\u001b[0m\u001b[0;34m\u001b[0m\u001b[0;34m\u001b[0m\u001b[0m\n\u001b[1;32m      5\u001b[0m \u001b[0;34m\u001b[0m\u001b[0m\n\u001b[0;32m----> 6\u001b[0;31m \u001b[0ms\u001b[0m \u001b[0;34m=\u001b[0m \u001b[0mDependencyScheduler\u001b[0m\u001b[0;34m(\u001b[0m\u001b[0;34m)\u001b[0m\u001b[0;34m\u001b[0m\u001b[0;34m\u001b[0m\u001b[0m\n\u001b[0m\u001b[1;32m      7\u001b[0m \u001b[0ms\u001b[0m\u001b[0;34m.\u001b[0m\u001b[0madd_task\u001b[0m\u001b[0;34m(\u001b[0m\u001b[0;34m'a'\u001b[0m\u001b[0;34m,\u001b[0m \u001b[0;34m[\u001b[0m\u001b[0;34m]\u001b[0m\u001b[0;34m)\u001b[0m\u001b[0;34m\u001b[0m\u001b[0;34m\u001b[0m\u001b[0m\n\u001b[1;32m      8\u001b[0m \u001b[0ms\u001b[0m\u001b[0;34m.\u001b[0m\u001b[0madd_task\u001b[0m\u001b[0;34m(\u001b[0m\u001b[0;34m'b'\u001b[0m\u001b[0;34m,\u001b[0m \u001b[0;34m[\u001b[0m\u001b[0;34m]\u001b[0m\u001b[0;34m)\u001b[0m\u001b[0;34m\u001b[0m\u001b[0;34m\u001b[0m\u001b[0m\n",
            "\u001b[0;31mNameError\u001b[0m: name 'DependencyScheduler' is not defined"
          ]
        }
      ],
      "source": [
        "### Basic tests for `cooking_redo`. 5 points.\n",
        "\n",
        "def assert_equal(a, b):\n",
        "    assert a == b\n",
        "\n",
        "s = DependencyScheduler()\n",
        "s.add_task('a', [])\n",
        "s.add_task('b', [])\n",
        "s.add_task('c', ['a', 'b'])\n",
        "s.add_task('e', [])\n",
        "s.add_task('f', ['e'])\n",
        "s.add_task('g', ['f', 'd'])\n",
        "s.add_task('d', ['c'])\n",
        "\n",
        "s.mark_completed('a')\n",
        "s.mark_completed('b')\n",
        "s.mark_completed('c')\n",
        "s.mark_completed('d')\n",
        "assert_equal(s.available_tasks, {'e'})\n",
        "s.cooking_redo('c')\n",
        "# When we redo c, both its successor d, and predecessors a, b have to be redone.\n",
        "assert_equal(s.available_tasks, {'a', 'b', 'e'})\n",
        "assert_equal(s.completed_tasks, set())\n"
      ]
    },
    {
      "cell_type": "code",
      "execution_count": null,
      "metadata": {
        "deletable": false,
        "editable": false,
        "id": "xS-5Ost_00P-",
        "nbgrader": {
          "checksum": null,
          "grade": true,
          "grade_id": "cell-2000c1f0bf400915",
          "locked": true,
          "points": 10,
          "schema_version": 3,
          "solution": false
        }
      },
      "outputs": [],
      "source": [
        "### For this question, you received 10 out of 10 points.\n",
        "\n",
        "### Hidden tests.  5 points.\n",
        "\n"
      ]
    },
    {
      "cell_type": "markdown",
      "metadata": {
        "deletable": false,
        "editable": false,
        "id": "RuFCQ8A500P-",
        "nbgrader": {
          "checksum": null,
          "grade": false,
          "grade_id": "cell-4b32c44a0982152d",
          "locked": true,
          "schema_version": 3,
          "solution": false
        }
      },
      "source": [
        "And now, some slightly more sophisticated tests."
      ]
    },
    {
      "cell_type": "code",
      "execution_count": null,
      "metadata": {
        "deletable": false,
        "editable": false,
        "id": "VyXHpsvF00P-",
        "nbgrader": {
          "checksum": null,
          "grade": false,
          "grade_id": "cell-41bc9888b990814e",
          "locked": true,
          "schema_version": 3,
          "solution": false
        },
        "outputId": "17c3a2a6-3058-485d-db96-d58c75a5aa3c"
      },
      "outputs": [
        {
          "ename": "NameError",
          "evalue": "name 'DependencyScheduler' is not defined",
          "output_type": "error",
          "traceback": [
            "\u001b[0;31m---------------------------------------------------------------------------\u001b[0m",
            "\u001b[0;31mNameError\u001b[0m                                 Traceback (most recent call last)",
            "\u001b[0;32m<ipython-input-32-36500edb9314>\u001b[0m in \u001b[0;36m<module>\u001b[0;34m\u001b[0m\n\u001b[1;32m      4\u001b[0m     \u001b[0;32massert\u001b[0m \u001b[0ma\u001b[0m \u001b[0;34m==\u001b[0m \u001b[0mb\u001b[0m\u001b[0;34m\u001b[0m\u001b[0;34m\u001b[0m\u001b[0m\n\u001b[1;32m      5\u001b[0m \u001b[0;34m\u001b[0m\u001b[0m\n\u001b[0;32m----> 6\u001b[0;31m \u001b[0ms\u001b[0m \u001b[0;34m=\u001b[0m \u001b[0mDependencyScheduler\u001b[0m\u001b[0;34m(\u001b[0m\u001b[0;34m)\u001b[0m\u001b[0;34m\u001b[0m\u001b[0;34m\u001b[0m\u001b[0m\n\u001b[0m\u001b[1;32m      7\u001b[0m \u001b[0ms\u001b[0m\u001b[0;34m.\u001b[0m\u001b[0madd_task\u001b[0m\u001b[0;34m(\u001b[0m\u001b[0;34m'a'\u001b[0m\u001b[0;34m,\u001b[0m \u001b[0;34m[\u001b[0m\u001b[0;34m]\u001b[0m\u001b[0;34m)\u001b[0m\u001b[0;34m\u001b[0m\u001b[0;34m\u001b[0m\u001b[0m\n\u001b[1;32m      8\u001b[0m \u001b[0ms\u001b[0m\u001b[0;34m.\u001b[0m\u001b[0madd_task\u001b[0m\u001b[0;34m(\u001b[0m\u001b[0;34m'b'\u001b[0m\u001b[0;34m,\u001b[0m \u001b[0;34m[\u001b[0m\u001b[0;34m]\u001b[0m\u001b[0;34m)\u001b[0m\u001b[0;34m\u001b[0m\u001b[0;34m\u001b[0m\u001b[0m\n",
            "\u001b[0;31mNameError\u001b[0m: name 'DependencyScheduler' is not defined"
          ]
        }
      ],
      "source": [
        "### Advanced tests for `cooking_redo`. 5 points.\n",
        "\n",
        "def assert_equal(a, b):\n",
        "    assert a == b\n",
        "\n",
        "s = DependencyScheduler()\n",
        "s.add_task('a', [])\n",
        "s.add_task('b', [])\n",
        "s.add_task('c', ['a', 'b'])\n",
        "s.add_task('d', ['c'])\n",
        "s.add_task('e', [])\n",
        "s.add_task('f', ['e'])\n",
        "s.add_task('g', ['f', 'd'])\n",
        "\n",
        "s.mark_completed('a')\n",
        "s.mark_completed('b')\n",
        "s.mark_completed('c')\n",
        "s.mark_completed('d')\n",
        "s.mark_completed('e')\n",
        "assert_equal(s.available_tasks, {'f'})\n",
        "s.cooking_redo('c')\n",
        "# When we redo c, both its successor d, and predecessors a, b have to be redone.\n",
        "assert_equal(s.available_tasks, {'a', 'b', 'f'})\n",
        "assert_equal(s.completed_tasks, {'e'})\n",
        "\n",
        "s = DependencyScheduler()\n",
        "s.add_task('mayo', ['lemon juice', 'egg yolks', 'oil'])\n",
        "s.add_task('marinated shrimp', ['shrimp', 'lemon juice'])\n",
        "s.add_task('crevettes', ['marinated shrimp', 'mayo'])\n",
        "s.mark_completed('lemon juice')\n",
        "s.mark_completed('egg yolks')\n",
        "s.mark_completed('oil')\n",
        "s.mark_completed('shrimp')\n",
        "s.mark_completed('marinated shrimp')\n",
        "s.mark_completed('mayo')\n",
        "assert s.available_tasks == {'crevettes'}\n",
        "s.cooking_redo('egg yolks')\n",
        "assert 'mayo' not in s.completed_tasks\n",
        "assert 'marinated shrimp' in s.completed_tasks\n",
        "assert 'egg yolks' not in s.completed_tasks\n"
      ]
    },
    {
      "cell_type": "code",
      "execution_count": null,
      "metadata": {
        "deletable": false,
        "editable": false,
        "id": "fM4eg8tp00P-",
        "nbgrader": {
          "checksum": null,
          "grade": true,
          "grade_id": "cell-63f201cc47d8828c",
          "locked": true,
          "points": 10,
          "schema_version": 3,
          "solution": false
        }
      },
      "outputs": [],
      "source": [
        "### For this question, you received 10 out of 10 points.\n",
        "\n",
        "### Hidden tests. 5 points.\n",
        "\n"
      ]
    },
    {
      "cell_type": "markdown",
      "metadata": {
        "deletable": false,
        "editable": false,
        "id": "UpdRIDav00P-",
        "nbgrader": {
          "checksum": null,
          "grade": false,
          "grade_id": "cell-446b91c362223bd8",
          "locked": true,
          "schema_version": 3,
          "solution": false
        }
      },
      "source": [
        "## Question 4: Implement And-Or Schedules\n",
        "\n",
        "In the schedules we have seen so far, the dependencies are in _and_ one with the other: if a task $a$ depends on $b, c$, then _both_ $b$ _and $c$ need to be completed before $a$ can be started.\n",
        "It is possible to consider also cases where dependencies are in an _or_ relation: if $a$ depends on $b, c$ in an _or_ way, then it suffices to complete one of $b$ _or_ $c$ before starting $a$.\n",
        "For instance, in our Carbonara Pasta example, it is possible (even though not necessarily advisable) to use shallots in place of onions.\n",
        "In that case, instead of\n",
        "\n",
        "    carbonara.add_task('put onions in pan', ['dice onions'])\n",
        "\n",
        "we could have:\n",
        "\n",
        "    carbonara.add_or_task('put onions in pan', ['dice onions', 'dice shallots'])\n",
        "\n",
        "so that before putting the (now generally named) onions in a pan, we could choose to dice either shallots or onions.\n",
        "\n",
        "Formally, the idea is to endow the Scheduler class with _two_ methods:\n",
        "\n",
        "* `add_and_task(self, t, dependencies)` adds a task `t` with list of dependencies `dependencies`, so that `t` can be done when _all_ of the dependencies are done.  The task `t` is called an AND node in the dependency graph.\n",
        "\n",
        "* `add_or_task(self, t, dependencies)` adds a task `t` with list of dependencies `dependencies`, so that `t` can be done when _at least one_ of the dependencies is done.  The task `t` is called an OR node in the dependency graph.\n",
        "\n",
        "You need to find a way to remember which dependency graph nodes are AND or OR nodes, and you need to implement the properties `done`, `available_tasks`, `uncompleted`, and the method `mark_completed`, to make this class work.\n",
        "Implementing the `show` method is optional; do it if it helps you debug your code."
      ]
    },
    {
      "cell_type": "code",
      "execution_count": null,
      "metadata": {
        "deletable": false,
        "id": "jtYeJCko00P_",
        "nbgrader": {
          "checksum": null,
          "grade": false,
          "grade_id": "cell-5cbd1742516d5f32",
          "locked": false,
          "schema_version": 3,
          "solution": true
        }
      },
      "outputs": [],
      "source": [
        "### `AND_OR_Scheduler` implementation\n",
        "\n",
        "class AND_OR_Scheduler(object):\n",
        "\n",
        "    def __init__(self):\n",
        "        # It is up to you to implement the initialization.\n",
        "        # YOUR CODE HEREself.successors = defaultdict(set)\n",
        "        # The predecessors of a task have to be done before the task.\n",
        "        self.successors = defaultdict(set)\n",
        "        self.predecessors = defaultdict(set)\n",
        "        self.completed_tasks = set()\n",
        "        self.andd = set()\n",
        "        self.orr = set()\n",
        "\n",
        "    def add_and_task(self, t, dependencies):\n",
        "        \"\"\"Adds an AND task t with given dependencies.\"\"\"\n",
        "        # YOUR CODE HERE\n",
        "        assert t not in self.orr or len(self.predecessors[t]) == 0, \"The task was already present.\"\n",
        "        self.andd.add(t)\n",
        "        self.andd.update(dependencies)\n",
        "        self.predecessors[t] = set(dependencies)\n",
        "        for u in dependencies:\n",
        "            self.successors[u].add(t)\n",
        "\n",
        "    def add_or_task(self, t, dependencies):\n",
        "        \"\"\"Adds an OR task t with given dependencies.\"\"\"\n",
        "        # YOUR CODE HERE\n",
        "        assert t not in self.andd or len(self.predecessors[t]) == 0, \"The task was already present.\"\n",
        "        self.orr.add(t)\n",
        "        self.orr.update(dependencies)\n",
        "        self.predecessors[t] = set(dependencies)\n",
        "        for u in dependencies:\n",
        "            self.successors[u].add(t)\n",
        "\n",
        "    @property\n",
        "    def done(self):\n",
        "        # YOUR CODE HERE\n",
        "        return self.completed_tasks == self.add | self.orr\n",
        "\n",
        "    @property\n",
        "    def available_tasks(self):\n",
        "        \"\"\"Returns the set of tasks that can be done in parallel.\n",
        "        A task can be done if:\n",
        "        - It is an AND task, and all its predecessors have been completed, or\n",
        "        - It is an OR task, and at least one of its predecessors has been completed.\n",
        "        And of course, we don't return any task that has already been\n",
        "        completed.\"\"\"\n",
        "        # YOUR CODE HERE\n",
        "        sets = set()\n",
        "        for i in self.andd:\n",
        "            if i not in self.completed_tasks:\n",
        "                if self.predecessors[i].issubset(self.completed_tasks):\n",
        "                    sets.add(i)\n",
        "        for i in self.orr:\n",
        "            if i not in self.completed_tasks:\n",
        "                if self.predecessors[i].issubset(self.completed_tasks):\n",
        "                    sets.add(i)\n",
        "                x = self.predecessors[i].intersection(self.completed_tasks)\n",
        "                if len(x) == 1 and x.issubset(self.orr):\n",
        "                    sets.add(i)\n",
        "        return sets\n",
        "\n",
        "    def mark_completed(self, t):\n",
        "        \"\"\"Marks the task t as completed, and returns the additional\n",
        "        set of tasks that can be done (and that could not be\n",
        "        previously done) once t is completed.\"\"\"\n",
        "        # YOUR CODE HERE\n",
        "        self.completed_tasks.add(t)\n",
        "        sett = set()\n",
        "        for i in self.successors[t]:\n",
        "            if i in self.andd:\n",
        "                if self.predecessors[i].issubset(self.completed_tasks):\n",
        "                    sett.add(i)\n",
        "            elif i in self.orr:\n",
        "                for x in self.predecessors[i]:\n",
        "                    if x in self.completed_tasks and i not in self.completed_tasks:\n",
        "                        sett.add(i)\n",
        "                        break\n",
        "                    else:\n",
        "                        continue\n",
        "        return sett\n",
        "\n",
        "    def show(self):\n",
        "        \"\"\"You can use the nx graph to display the graph.  You may want to ensure\n",
        "        that you display AND and OR nodes differently.\"\"\"\n",
        "        # YOUR CODE HERE\n"
      ]
    },
    {
      "cell_type": "code",
      "execution_count": null,
      "metadata": {
        "deletable": false,
        "id": "URzQvBkH00P_",
        "nbgrader": {
          "checksum": null,
          "grade": false,
          "grade_id": "cell-9b272f5f249c43d1",
          "locked": false,
          "schema_version": 3,
          "solution": true
        }
      },
      "outputs": [],
      "source": [
        "# Here is a place where you can test your code.\n",
        "\n",
        "# YOUR CODE HERE\n"
      ]
    },
    {
      "cell_type": "markdown",
      "metadata": {
        "deletable": false,
        "editable": false,
        "id": "hrLiukPj00P_",
        "nbgrader": {
          "checksum": null,
          "grade": false,
          "grade_id": "cell-4e26c8d0b90c0284",
          "locked": true,
          "schema_version": 3,
          "solution": false
        }
      },
      "source": [
        "Let us do some simple tests.  First, for good old AND nodes."
      ]
    },
    {
      "cell_type": "code",
      "execution_count": null,
      "metadata": {
        "deletable": false,
        "editable": false,
        "id": "DBWdzjke00P_",
        "nbgrader": {
          "checksum": null,
          "grade": false,
          "grade_id": "cell-4207773b1f68f951",
          "locked": true,
          "schema_version": 3,
          "solution": false
        }
      },
      "outputs": [],
      "source": [
        "### Simple tests for AND nodes. 4 points.\n",
        "\n",
        "def assert_equal(a, b):\n",
        "    assert a == b\n",
        "\n",
        "s = AND_OR_Scheduler()\n",
        "s.add_and_task('a', ['b', 'c'])\n",
        "assert_equal(s.available_tasks, {'b', 'c'})\n",
        "r = s.mark_completed('b')\n",
        "assert_equal(r, set())\n",
        "assert_equal(s.available_tasks, {'c'})\n",
        "r = s.mark_completed('c')\n",
        "assert_equal(r, {'a'})\n",
        "assert_equal(s.available_tasks, {'a'})\n",
        "r = s.mark_completed('a')\n",
        "assert_equal(r, set())\n",
        "assert_equal(s.available_tasks, set())\n",
        "\n"
      ]
    },
    {
      "cell_type": "code",
      "execution_count": null,
      "metadata": {
        "deletable": false,
        "editable": false,
        "id": "c_xU-EKF00P_",
        "nbgrader": {
          "checksum": null,
          "grade": true,
          "grade_id": "cell-6a736381aea5625d",
          "locked": true,
          "points": 10,
          "schema_version": 3,
          "solution": false
        }
      },
      "outputs": [],
      "source": [
        "### For this question, you received 10 out of 10 points.\n",
        "\n",
        "### Hidden tests.  6 points.\n",
        "\n"
      ]
    },
    {
      "cell_type": "markdown",
      "metadata": {
        "deletable": false,
        "editable": false,
        "id": "koxHx9rr00P_",
        "nbgrader": {
          "checksum": null,
          "grade": false,
          "grade_id": "cell-f5d02f8b788a1d3",
          "locked": true,
          "schema_version": 3,
          "solution": false
        }
      },
      "source": [
        "Then, some simple tests for OR nodes."
      ]
    },
    {
      "cell_type": "code",
      "execution_count": null,
      "metadata": {
        "deletable": false,
        "editable": false,
        "id": "kiBbvTVf00P_",
        "nbgrader": {
          "checksum": null,
          "grade": false,
          "grade_id": "cell-9c4a817f742528c6",
          "locked": true,
          "schema_version": 3,
          "solution": false
        }
      },
      "outputs": [],
      "source": [
        "### Simple tests for OR nodes. 4 points.\n",
        "\n",
        "def assert_equal(a, b):\n",
        "    assert a == b\n",
        "\n",
        "s = AND_OR_Scheduler()\n",
        "s.add_or_task('a', ['b', 'c'])\n",
        "assert_equal(s.available_tasks, {'b', 'c'})\n",
        "r = s.mark_completed('b')\n",
        "# Now 'a' becomes available.\n",
        "assert_equal(r, {'a'})\n",
        "# But note that 'c' is also available, even if useless.\n",
        "assert_equal(s.available_tasks, {'a', 'c'})\n",
        "r = s.mark_completed('a')\n",
        "assert_equal(r, set())\n",
        "assert_equal(s.available_tasks, {'c'})\n",
        "r = s.mark_completed('c')\n",
        "assert_equal(r, set())\n",
        "assert_equal(s.available_tasks, set())\n"
      ]
    },
    {
      "cell_type": "code",
      "execution_count": null,
      "metadata": {
        "deletable": false,
        "editable": false,
        "id": "FQAzsRMl00P_",
        "nbgrader": {
          "checksum": null,
          "grade": true,
          "grade_id": "cell-a4f3bc9d058cf466",
          "locked": true,
          "points": 10,
          "schema_version": 3,
          "solution": false
        }
      },
      "outputs": [],
      "source": [
        "### For this question, you received 10 out of 10 points.\n",
        "\n",
        "### Hidden tests.  6 points.\n",
        "\n"
      ]
    },
    {
      "cell_type": "markdown",
      "metadata": {
        "deletable": false,
        "editable": false,
        "id": "PcJ8qQ3a00P_",
        "nbgrader": {
          "checksum": null,
          "grade": false,
          "grade_id": "cell-e723cb5afb283193",
          "locked": true,
          "schema_version": 3,
          "solution": false
        }
      },
      "source": [
        "Note that a drawback of this simple solution, as illustrated by the above test case, is that we do not distinguish between the tasks that are useful to do the root task, and the tasks that are useless, that is, not part of a minimal solution.  We simply call them available, as they can be done, even though there is no advantage in doing them."
      ]
    },
    {
      "cell_type": "code",
      "execution_count": null,
      "metadata": {
        "deletable": false,
        "editable": false,
        "id": "tcfqlKvI00P_",
        "nbgrader": {
          "checksum": null,
          "grade": false,
          "grade_id": "cell-9cc4862ca5caf0f",
          "locked": true,
          "schema_version": 3,
          "solution": false
        }
      },
      "outputs": [],
      "source": [
        "### Tests with both AND and OR nodes. 5 points.\n",
        "\n",
        "def assert_equal(a, b):\n",
        "    assert a == b\n",
        "\n",
        "\n",
        "s = AND_OR_Scheduler()\n",
        "s.add_and_task('a', ['b', 'c'])\n",
        "s.add_or_task('b', ['b1', 'b2'])\n",
        "s.add_or_task('c', ['c1', 'c2'])\n",
        "r = s.mark_completed('b1')\n",
        "assert_equal(s.available_tasks, {'b', 'b2', 'c1', 'c2'})\n",
        "r = s.mark_completed('b')\n",
        "assert 'a' not in s.available_tasks\n",
        "r = s.mark_completed('c1')\n",
        "assert 'a' not in s.available_tasks\n",
        "r = s.mark_completed('c')\n",
        "assert 'a' in s.available_tasks\n",
        "\n",
        "s = AND_OR_Scheduler()\n",
        "s.add_or_task('a', ['b', 'c'])\n",
        "s.add_and_task('b', ['b1', 'b2'])\n",
        "s.add_and_task('c', ['c1', 'c2'])\n",
        "r = s.mark_completed('b1')\n",
        "assert_equal(s.available_tasks, {'b2', 'c1', 'c2'})\n",
        "r = s.mark_completed('c1')\n",
        "assert_equal(s.available_tasks, {'b2', 'c2'})\n",
        "r = s.mark_completed('c2')\n",
        "assert_equal(s.available_tasks, {'b2', 'c'})\n",
        "r = s.mark_completed('c')\n",
        "assert 'a' in s.available_tasks\n"
      ]
    },
    {
      "cell_type": "code",
      "execution_count": null,
      "metadata": {
        "deletable": false,
        "editable": false,
        "id": "20inXeqT00P_",
        "nbgrader": {
          "checksum": null,
          "grade": true,
          "grade_id": "cell-809378c6ff356ec",
          "locked": true,
          "points": 10,
          "schema_version": 3,
          "solution": false
        }
      },
      "outputs": [],
      "source": [
        "### For this question, you received 10 out of 10 points.\n",
        "\n",
        "### Hidden tests.  5 points.\n",
        "\n"
      ]
    }
  ],
  "metadata": {
    "colab": {
      "provenance": [],
      "include_colab_link": true
    },
    "kernelspec": {
      "display_name": "Python 3",
      "language": "python",
      "name": "python3"
    },
    "language_info": {
      "codemirror_mode": {
        "name": "ipython",
        "version": 3
      },
      "file_extension": ".py",
      "mimetype": "text/x-python",
      "name": "python",
      "nbconvert_exporter": "python",
      "pygments_lexer": "ipython3",
      "version": "3.8.10"
    },
    "test_info": {
      "id": "409a3ca77df94dcb1af83ec4ed62aa96a89090f3"
    }
  },
  "nbformat": 4,
  "nbformat_minor": 0
}
