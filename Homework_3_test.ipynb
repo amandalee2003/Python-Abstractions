{
  "cells": [
    {
      "cell_type": "markdown",
      "metadata": {
        "id": "view-in-github",
        "colab_type": "text"
      },
      "source": [
        "<a href=\"https://colab.research.google.com/github/amandalee2003/Python-Abstractions/blob/main/Homework_3_test.ipynb\" target=\"_parent\"><img src=\"https://colab.research.google.com/assets/colab-badge.svg\" alt=\"Open In Colab\"/></a>"
      ]
    },
    {
      "cell_type": "markdown",
      "metadata": {
        "id": "Mt5wp4tJkZgJ"
      },
      "source": [
        "Before you turn this problem in, make sure everything runs as expected. First, **restart the kernel** (in the menubar, select Kernel$\\rightarrow$Restart) and then **run all cells** (in the menubar, select Cell$\\rightarrow$Run All).\n",
        "\n",
        "Make sure you fill in any place that says `YOUR CODE HERE` or \"YOUR ANSWER HERE\", as well as your name and collaborators below:"
      ],
      "id": "Mt5wp4tJkZgJ"
    },
    {
      "cell_type": "code",
      "execution_count": null,
      "metadata": {
        "id": "B9u0M2TMkZgL"
      },
      "outputs": [],
      "source": [
        "NAME = \"\"\n",
        "COLLABORATORS = \"\""
      ],
      "id": "B9u0M2TMkZgL"
    },
    {
      "cell_type": "markdown",
      "metadata": {
        "id": "tN8wrFUskZgM"
      },
      "source": [
        "---"
      ],
      "id": "tN8wrFUskZgM"
    },
    {
      "cell_type": "markdown",
      "metadata": {
        "deletable": false,
        "editable": false,
        "nbgrader": {
          "cell_type": "markdown",
          "checksum": "212ba1bf63d5ed1420eaa0f7a80d23d5",
          "grade": false,
          "grade_id": "cell-99ff2593e81c9af1",
          "locked": true,
          "schema_version": 3,
          "solution": false
        },
        "id": "KPhvMIF4kZgM"
      },
      "source": [
        "# CSE 30 Fall 2021 - Homework 3\n",
        "\n",
        "\n",
        "### Instructions\n",
        "\n",
        "Please disregard the YOUR NAME and COLLABORATORS above.  They are put there automatically by the grading tool.\n",
        "You can find instructions on how to work on a homework on Canvas.  Here is a short summary:\n",
        "\n",
        "### Submitting your work\n",
        "\n",
        "To submit your work:\n",
        "\n",
        "* First, click on \"Runtime > Restart and run all\", and check that you get no errors.  This enables you to catch any error you might have introduced, and not noticed, due to your running cells out of order.\n",
        "* Second, download the notebook in .ipynb format (File > Download .ipynb) and upload the .ipynb file to [this form](https://docs.google.com/forms/d/e/1FAIpQLSekLbdR8sFpJsnJln-MNpn8rKYi8jKv5uFfBYTdRXyQpriS3w/viewform?usp=sf_link).\n",
        "* This homework is due by 11:59pm on Wednesday January 18.\n",
        "\n",
        "You can submit multiple times; the last submission before the deadline is the one that counts.\n",
        "\n",
        "### Homework format\n",
        "\n",
        "For each question in this notebook, there is:\n",
        "\n",
        "* A text description of the problem.\n",
        "* One or more places where you have to insert your solution.  You need to complete every place marked:\n",
        "\n",
        "    `# YOUR CODE HERE`\n",
        "    \n",
        "    and you should not modify any other place.\n",
        "* One or more test cells.  Each cell is worth some number of points, marked at the top.  You should not modify these tests cells.  The tests pass if no error is printed out: when there is a statement that says, for instance:\n",
        "\n",
        "    `assert x == 2`\n",
        "    \n",
        "    then the test passes if `x` has value 2, and fails otherwise.  You can insert a `print(x)` (for this case!) somewhere if you want to debug your work; it is up to you.  \n",
        "    \n",
        "### Notes:\n",
        "\n",
        "* Your code will be tested both according to the tests you can see (the `assert` statements you can see), _and_ additional tests.  This prevents you from hard-coding the answer to the particular questions posed.  Your code should solve the _general_ intended case, not hard-code the particular answer for the values used in the tests.\n",
        "\n",
        "* **Please do not delete or add cells!** The test is autograded, and if you modify the test by adding or deleting cells, even if you re-add cells you delete, you may not receive credit.\n",
        "\n",
        "* **Please do not import modules that are not part of the [standard library](https://docs.python.org/3/library/index.html).** You do not need any, and they will likely not available in the grading environment, leading your code to fail.\n",
        "\n",
        "* **If you are inactive too long, your notebook might get disconnected from the back-end.** Your work is never lost, but you have to re-run all the cells before you continue.\n",
        "\n",
        "* You can write out print statements in your code, to help you test/debug it. But remember: the code is graded on the basis of what it outputs or returns, not on the basis of what it prints.\n",
        "\n",
        "* **TAs and tutors have access to this notebook,** so if you let them know you need their help, they can look at your work and give you advice.\n",
        "\n",
        "### Grading\n",
        "\n",
        "Each cell where there are tests is worth a certain number of points.  You get the points allocated to a cell only if you pass _all_ the tests in the cell.\n",
        "\n",
        "The tests in a cell include both the tests you can see, and other, similar, tests that are used for grading only.  Therefore, you cannot hard-code the solutions: you really have to solve the essence of the problem, to receive the points in a cell.\n",
        "\n",
        "### Code of Conduct\n",
        "\n",
        "* Work on the test yourself, alone.\n",
        "* You can search documentation on the web, on sites such as the Python documentation sites, Stackoverflow, and similar, and you can use the results.\n",
        "* You cannot share your work with others or solicit their help.\n"
      ],
      "id": "KPhvMIF4kZgM"
    },
    {
      "cell_type": "markdown",
      "metadata": {
        "deletable": false,
        "editable": false,
        "nbgrader": {
          "cell_type": "markdown",
          "checksum": "8a486c6ed4eee0ea7c95ab6784748ace",
          "grade": false,
          "grade_id": "cell-1ec2d5e4691d5f2",
          "locked": true,
          "schema_version": 3,
          "solution": false
        },
        "id": "_P5EeglakZgN"
      },
      "source": [
        "## Problem: Dicothomic Search"
      ],
      "id": "_P5EeglakZgN"
    },
    {
      "cell_type": "markdown",
      "metadata": {
        "deletable": false,
        "editable": false,
        "nbgrader": {
          "cell_type": "markdown",
          "checksum": "9ea38409215050f252a32db1afe6e3fe",
          "grade": false,
          "grade_id": "cell-6993ec056a018c3c",
          "locked": true,
          "schema_version": 3,
          "solution": false
        },
        "id": "zcsS_oQTkZgN"
      },
      "source": [
        "You are given a sorted list `l`, and you need to look into it for an element `x`.  Of course, you could start looking at the beginning for `x`, and continue until you are done:\n",
        "\n",
        "    for el in l:\n",
        "        if el == x:\n",
        "            ...\n",
        "\n",
        "or you can do the same with `l.index(x)`, but these approaches do not take advantage of the fact that `l` is sorted, and take an amount of time that is proportional to the length of the list `l`: on average, you will find `x` about halfway through.\n",
        "\n",
        "When you search in a dictionary, you don't take this approach. If you look for \"hedgehog\", you open the dictionary in the middle, and based on that you decide whether to search in the first half or the second half. This continues until you narrow the range of search to a single page.\n",
        "\n",
        "We want to follow the same idea to search in our list. We ask you to write a _recursive_ function `search(l, x, i, k)` which searches for _the earliest_ occurrence of `x` in the list `l` from position `i` to position `k - 1`, inclusive, and returns the smallest index at which `x` has been found, or `None` if it has not been found.\n",
        "\n",
        "To find if `x` is in the list, you would call `search(l, x, 0, len(l))`.\n",
        "\n",
        "The function `search` should work as follows:\n",
        "\n",
        "* If `k <= i`, there is nowhere you can search, and you return `None`.\n",
        "* If `k = i + 1`, then you know what to check!\n",
        "* If `k > i + 1`, then there is more than one position to consider.  You split the range you have to search in the middle, say, at `j = i + (k - i) // 2`, and then look at `l[j]`.  Based on that, you decide whether to search (calling `search` recursively) from `i` to `j`, or from `j` to `k`."
      ],
      "id": "zcsS_oQTkZgN"
    },
    {
      "cell_type": "markdown",
      "metadata": {
        "deletable": false,
        "editable": false,
        "nbgrader": {
          "cell_type": "markdown",
          "checksum": "e13f1d439511609bd56f46b26846e57f",
          "grade": false,
          "grade_id": "cell-22c4fa02dc2d0f63",
          "locked": true,
          "schema_version": 3,
          "solution": false
        },
        "id": "u_ioplpJkZgO"
      },
      "source": [
        "Note: in this exercise, the whole point is to use recursion, and to avoid accessing the list too many times.\n",
        "If you have code that reads (for example):\n",
        "\n",
        "    if l[k] == ...\n",
        "        ...\n",
        "    if l[k] < ...\n",
        "        ...\n",
        "        \n",
        "then that code would be accessing `l[k]` twice.  You may want to cache the value of `l[k]` in an intermediate place to avoid such accesses:\n",
        "\n",
        "    lk = l[k]\n",
        "    if lk == ...\n",
        "        ...\n",
        "    if lk < ...\n",
        "        ...\n",
        "        \n",
        "This is only an example; the actual piece of code is not like the one above, but the idea is what matters: do not access twice in a row the same list element; rather, cache its value."
      ],
      "id": "u_ioplpJkZgO"
    },
    {
      "cell_type": "code",
      "execution_count": null,
      "metadata": {
        "deletable": false,
        "nbgrader": {
          "cell_type": "code",
          "checksum": "9d1667a5add9b4b3b53f8b654bcfa2b3",
          "grade": false,
          "grade_id": "cell-3bd92924084aa1da",
          "locked": false,
          "schema_version": 3,
          "solution": true
        },
        "id": "jDTyrW1VkZgO"
      },
      "outputs": [],
      "source": [
        "def search(l, x, i, k):\n",
        "    \"\"\"Searches for an occurrence of x in list l, from position i to position k - 1 inclusive,\n",
        "    using recursion.\"\"\"\n",
        "    # YOUR CODE HERE\n",
        "    if i >= k:\n",
        "        return None\n",
        "    elif k == i + 1:\n",
        "        if x == l[i]:\n",
        "            return i\n",
        "        else:\n",
        "            return None\n",
        "    elif k > i + 1:\n",
        "        mid = i + (k - i) // 2\n",
        "        variable = l[mid]\n",
        "        if variable == x:\n",
        "            function = search(l, x, i, mid)\n",
        "            if function == None:\n",
        "                return mid\n",
        "            else:\n",
        "                return function\n",
        "        elif variable < x:\n",
        "            return search(l, x, mid, k)\n",
        "        else:\n",
        "            return search(l, x, i, mid)"
      ],
      "id": "jDTyrW1VkZgO"
    },
    {
      "cell_type": "code",
      "execution_count": null,
      "metadata": {
        "deletable": false,
        "editable": false,
        "nbgrader": {
          "cell_type": "code",
          "checksum": "2532b72aad9ed6930138cb05e5350b51",
          "grade": false,
          "grade_id": "cell-f76d5aee12907618",
          "locked": true,
          "schema_version": 3,
          "solution": false
        },
        "id": "761uyayikZgP"
      },
      "outputs": [],
      "source": [
        "def binary_search(l, x):\n",
        "    \"\"\"Helper function.\"\"\"\n",
        "    return search(l, x, 0, len(l))\n"
      ],
      "id": "761uyayikZgP"
    },
    {
      "cell_type": "code",
      "execution_count": null,
      "metadata": {
        "deletable": false,
        "nbgrader": {
          "cell_type": "code",
          "checksum": "2127b1a269ebb84783901ebf164b317f",
          "grade": false,
          "grade_id": "cell-4f243d684d34f7cb",
          "locked": false,
          "schema_version": 3,
          "solution": true
        },
        "colab": {
          "base_uri": "https://localhost:8080/"
        },
        "id": "JB-bZ7pykZgP",
        "outputId": "65d00722-4784-41cc-e7f2-d17eaef102a4"
      },
      "outputs": [
        {
          "output_type": "execute_result",
          "data": {
            "text/plain": [
              "False"
            ]
          },
          "metadata": {},
          "execution_count": 9
        }
      ],
      "source": [
        "## Here is a place for you to play with your code.\n",
        "\n",
        "# YOUR CODE HERE\n",
        "binary_search([1, 2, 3, 3, 3, 4, 5], 3) == 2\n"
      ],
      "id": "JB-bZ7pykZgP"
    },
    {
      "cell_type": "markdown",
      "metadata": {
        "deletable": false,
        "editable": false,
        "nbgrader": {
          "cell_type": "markdown",
          "checksum": "16b798504b053b5fdc1560bee8e5e368",
          "grade": false,
          "grade_id": "cell-9b1905a72fcefa50",
          "locked": true,
          "schema_version": 3,
          "solution": false
        },
        "id": "6Ev0aKTnkZgQ"
      },
      "source": [
        "First, let's do a small sanity check, checking that at least you find the correct element."
      ],
      "id": "6Ev0aKTnkZgQ"
    },
    {
      "cell_type": "code",
      "execution_count": null,
      "metadata": {
        "deletable": false,
        "editable": false,
        "nbgrader": {
          "cell_type": "code",
          "checksum": "9496dd1483360c84e4435e0ab1f0c209",
          "grade": false,
          "grade_id": "cell-e75c787a1dae7e62",
          "locked": true,
          "schema_version": 3,
          "solution": false
        },
        "id": "drHH1xrukZgQ"
      },
      "outputs": [],
      "source": [
        "# 5 points.\n",
        "\n",
        "assert binary_search([1, 2, 3, 4, 5, 6], 2) == 1\n",
        "assert binary_search([1, 2, 3, 5, 6, 7], 4) is None\n",
        "\n",
        "# We did say, the earliest occurrence.\n",
        "assert binary_search([1, 2, 3, 3, 3, 4, 5], 3) == 2\n",
        "assert binary_search([1, 2, 2, 2, 2, 3, 4, 5], 2) == 1\n",
        "assert binary_search([1, 1, 1, 1, 1, 2, 3], 1) == 0\n"
      ],
      "id": "drHH1xrukZgQ"
    },
    {
      "cell_type": "markdown",
      "metadata": {
        "deletable": false,
        "editable": false,
        "nbgrader": {
          "cell_type": "markdown",
          "checksum": "7666de2db7a2cddc3a8dfc245d522d4e",
          "grade": false,
          "grade_id": "cell-5efd7b2d494bdd34",
          "locked": true,
          "schema_version": 3,
          "solution": false
        },
        "id": "SSXrKO53kZgQ"
      },
      "source": [
        "To keep you honest, we implement two tricks.  First, we will not let you work on a list, but rather, on a WeakList, which counts how many times it has been accessed, and if you access it too many times, it raises an exception.  This will force you to implement dicothomic search rather than just scanning the list.\n",
        "\n",
        "To help in debugging, we make a WeakList also print out where it is accessed."
      ],
      "id": "SSXrKO53kZgQ"
    },
    {
      "cell_type": "code",
      "execution_count": null,
      "metadata": {
        "deletable": false,
        "editable": false,
        "nbgrader": {
          "cell_type": "code",
          "checksum": "3fe602c57c1111342edad15b92f7dfda",
          "grade": false,
          "grade_id": "cell-985731bdba5c0116",
          "locked": true,
          "schema_version": 3,
          "solution": false
        },
        "id": "P3aVbTlmkZgQ"
      },
      "outputs": [],
      "source": [
        "import math\n",
        "\n",
        "class TooManyAccesses(Exception):\n",
        "    pass\n",
        "\n",
        "class WeakList(object):\n",
        "\n",
        "    def __init__(self, *args, verbose=True):\n",
        "        \"\"\"You create a tired list passing it the elements as arguments.\"\"\"\n",
        "        self.q = list(args) # Do not rely on this being called l... it will be renamed in grading.\n",
        "        self.num_accesses = 0\n",
        "        self.max_accesses = int(math.log2(len(self.q))) + 2\n",
        "        self.verbose = verbose\n",
        "\n",
        "    def __len__(self):\n",
        "        \"\"\"This implements the len() method.\"\"\"\n",
        "        return len(self.q)\n",
        "\n",
        "    def __getitem__(self, i):\n",
        "        \"\"\"This implements the lookup via [i] syntax.\"\"\"\n",
        "        if self.verbose:\n",
        "            print(\"Accessed position\", i)\n",
        "        self.num_accesses += 1\n",
        "        if self.num_accesses > self.max_accesses:\n",
        "            raise TooManyAccesses(\"You have exceeded the maximum of {} accesses\".format(self.num_accesses))\n",
        "        return self.q[i]\n"
      ],
      "id": "P3aVbTlmkZgQ"
    },
    {
      "cell_type": "code",
      "execution_count": null,
      "metadata": {
        "deletable": false,
        "nbgrader": {
          "cell_type": "code",
          "checksum": "5e0bba7c26087e8a0c7ca42d23974b02",
          "grade": false,
          "grade_id": "cell-4327641f4831624f",
          "locked": false,
          "schema_version": 3,
          "solution": true
        },
        "id": "iW0JNLAekZgR"
      },
      "outputs": [],
      "source": [
        "## Here is a place for you to play with your code.\n",
        "\n",
        "# YOUR CODE HERE\n"
      ],
      "id": "iW0JNLAekZgR"
    },
    {
      "cell_type": "markdown",
      "metadata": {
        "deletable": false,
        "editable": false,
        "nbgrader": {
          "cell_type": "markdown",
          "checksum": "782c1a77684f4a947eea5241e08d65dd",
          "grade": false,
          "grade_id": "cell-f4b9e10de1e1e42b",
          "locked": true,
          "schema_version": 3,
          "solution": false
        },
        "id": "Qf-WczxgkZgR"
      },
      "source": [
        "We can now test that you can find the earliest occurrence of an element in a list without accessing too many elements."
      ],
      "id": "Qf-WczxgkZgR"
    },
    {
      "cell_type": "code",
      "execution_count": null,
      "metadata": {
        "deletable": false,
        "editable": false,
        "nbgrader": {
          "cell_type": "code",
          "checksum": "a64b1a6e1ef236cbe95142a3742e6660",
          "grade": false,
          "grade_id": "cell-986b3d49f52b4826",
          "locked": true,
          "schema_version": 3,
          "solution": false
        },
        "colab": {
          "base_uri": "https://localhost:8080/"
        },
        "id": "aY3Ix5h8kZgR",
        "outputId": "7850a0cc-9d80-4c7e-f715-138ba9b9d40a"
      },
      "outputs": [
        {
          "output_type": "stream",
          "name": "stdout",
          "text": [
            "Accessed position 3\n",
            "Accessed position 4\n",
            "Accessed position 5\n",
            "Accessed position 4\n",
            "Accessed position 3\n",
            "Accessed position 1\n",
            "Accessed position 0\n",
            "Accessed position 3\n",
            "Accessed position 1\n",
            "Accessed position 2\n",
            "Accessed position 2\n",
            "Accessed position 2\n",
            "Accessed position 3\n",
            "Accessed position 3\n"
          ]
        }
      ],
      "source": [
        "# 5 points. Some simple tests.\n",
        "\n",
        "l = WeakList(3, 4, 5, 6, 7, 8)\n",
        "assert binary_search(l, 8) == 5\n",
        "\n",
        "l = WeakList(3, 4, 4, 5, 7, 8)\n",
        "assert binary_search(l, 4) == 1\n",
        "l = WeakList(3, 4, 4, 5, 7, 8)\n",
        "assert binary_search(l, 5) == 3\n",
        "l = WeakList(3, 5, 6, 7)\n",
        "assert binary_search(l, 8) is None\n"
      ],
      "id": "aY3Ix5h8kZgR"
    },
    {
      "cell_type": "code",
      "execution_count": null,
      "metadata": {
        "deletable": false,
        "editable": false,
        "nbgrader": {
          "cell_type": "code",
          "checksum": "14c5978d7a87a05ee318a7ffde54ab5f",
          "grade": false,
          "grade_id": "cell-77da2daddf66cdf1",
          "locked": true,
          "schema_version": 3,
          "solution": false
        },
        "id": "1E7PgEUMkZgR"
      },
      "outputs": [],
      "source": [
        "# 15 points.  Now, some randomized tests.\n",
        "\n",
        "import random\n",
        "\n",
        "for _ in range(1000):\n",
        "    n = random.randint(10, 100)\n",
        "    l = list(random.choices(list(range(100)), k=n))\n",
        "    l.sort()\n",
        "    k = random.randint(0, 99)\n",
        "    wl = WeakList(*l, verbose=False)\n",
        "    # print(\"Searching\", l, \"for\", k)\n",
        "    if k in l:\n",
        "        # print(\"It should be there.\")\n",
        "        bs = binary_search(wl, k)\n",
        "        ix = l.index(k)\n",
        "        assert bs == ix, \"Error: l: {}, k: {}, index: {}, binary: {}\".format(l, k, ix, bs)\n",
        "    else:\n",
        "        # print(\"It should not be there.\")\n",
        "        assert binary_search(wl, k) is None, \"Error: {} found in {}\".format(k, l)\n",
        "\n"
      ],
      "id": "1E7PgEUMkZgR"
    },
    {
      "cell_type": "markdown",
      "metadata": {
        "deletable": false,
        "editable": false,
        "nbgrader": {
          "cell_type": "markdown",
          "checksum": "d8c463ff46cf534af1e6f40e36976b0d",
          "grade": false,
          "grade_id": "cell-bc4a2080843bf059",
          "locked": true,
          "schema_version": 3,
          "solution": false
        },
        "id": "vEtoHLQgkZgR"
      },
      "source": [
        "Next, we know that students typically loathe recursion, and would rather write unfathomable goops of code rather than use a simple recursive solution.  We are not talking about you obviously.  But just to keep the other students honest, we define here a decorator that checks that the function is indeed called recursively."
      ],
      "id": "vEtoHLQgkZgR"
    },
    {
      "cell_type": "code",
      "execution_count": null,
      "metadata": {
        "deletable": false,
        "editable": false,
        "nbgrader": {
          "cell_type": "code",
          "checksum": "c3518f250a55b87d24ef57d5d172ef05",
          "grade": false,
          "grade_id": "cell-493579155190c2ac",
          "locked": true,
          "schema_version": 3,
          "solution": false
        },
        "id": "2jg8gH_mkZgS"
      },
      "outputs": [],
      "source": [
        "from bdb import Bdb\n",
        "import sys\n",
        "import traceback\n",
        "\n",
        "class NonRecursive(Exception):\n",
        "    pass\n",
        "\n",
        "class RecursionDetector(Bdb):\n",
        "\n",
        "    def do_clear(self, arg):\n",
        "        pass\n",
        "\n",
        "    def __init__(self, depth=1):\n",
        "        Bdb.__init__(self)\n",
        "        self.depth = depth\n",
        "        self.stack = []\n",
        "        self.passed = False\n",
        "\n",
        "    def user_call(self, frame, argument_list):\n",
        "        code = frame.f_code\n",
        "        depth = sum([code == c for c in self.stack])\n",
        "        if depth >= self.depth:\n",
        "            self.passed = True\n",
        "        self.stack.append(code)\n",
        "\n",
        "    def user_return(self, frame, return_value):\n",
        "        assert self.stack[-1] == frame.f_code\n",
        "        self.stack.pop()\n",
        "\n",
        "def test_recursion(func, depth=1):\n",
        "    detector = RecursionDetector(depth=depth)\n",
        "    detector.set_trace()\n",
        "    try:\n",
        "        r = func()\n",
        "    except:\n",
        "        traceback.print_exc()\n",
        "        r = None\n",
        "    finally:\n",
        "        sys.settrace(None)\n",
        "    return r\n",
        "\n",
        "def test_enough_recursion(wl, el):\n",
        "    \"\"\"Tests that you do enough recursion when calling binary_search(wl, el)\"\"\"\n",
        "    n = int(math.log2(len(wl))) - 1\n",
        "    return test_recursion(lambda: binary_search(wl, el), depth=n)\n"
      ],
      "id": "2jg8gH_mkZgS"
    },
    {
      "cell_type": "code",
      "execution_count": null,
      "metadata": {
        "deletable": false,
        "editable": false,
        "nbgrader": {
          "cell_type": "code",
          "checksum": "44ba0eba6b24277bac24f66b34be6b5a",
          "grade": false,
          "grade_id": "cell-10a4f06ecbc581bd",
          "locked": true,
          "schema_version": 3,
          "solution": false
        },
        "colab": {
          "base_uri": "https://localhost:8080/"
        },
        "id": "nTbV3pjzkZgS",
        "outputId": "23a9c0a8-faa2-4032-f596-c9359f5e0950"
      },
      "outputs": [
        {
          "output_type": "stream",
          "name": "stderr",
          "text": [
            "\n",
            "PYDEV DEBUGGER WARNING:\n",
            "sys.settrace() should not be used when the debugger is being used.\n",
            "This may cause the debugger to stop working correctly.\n",
            "If this is needed, please check: \n",
            "http://pydev.blogspot.com/2007/06/why-cant-pydev-debugger-work-with.html\n",
            "to see how to restore the debug tracing back correctly.\n",
            "Call Location:\n",
            "  File \"/usr/lib/python3.7/bdb.py\", line 332, in set_trace\n",
            "    sys.settrace(self.trace_dispatch)\n",
            "\n",
            "\n",
            "PYDEV DEBUGGER WARNING:\n",
            "sys.settrace() should not be used when the debugger is being used.\n",
            "This may cause the debugger to stop working correctly.\n",
            "If this is needed, please check: \n",
            "http://pydev.blogspot.com/2007/06/why-cant-pydev-debugger-work-with.html\n",
            "to see how to restore the debug tracing back correctly.\n",
            "Call Location:\n",
            "  File \"<ipython-input-29-a36df90cbf92>\", line 39, in test_recursion\n",
            "    sys.settrace(None)\n",
            "\n"
          ]
        }
      ],
      "source": [
        "assert test_recursion(lambda: binary_search([2, 3, 4, 5, 5, 6, 7, 8, 10, 11, 12], 5)) == 3\n"
      ],
      "id": "nTbV3pjzkZgS"
    },
    {
      "cell_type": "code",
      "execution_count": null,
      "metadata": {
        "deletable": false,
        "editable": false,
        "nbgrader": {
          "cell_type": "code",
          "checksum": "f78d56e27943818737b878c707c7bdc2",
          "grade": false,
          "grade_id": "cell-61c204802e79a977",
          "locked": true,
          "schema_version": 3,
          "solution": false
        },
        "id": "fJqBbOdtkZgS"
      },
      "outputs": [],
      "source": [
        "# 15 points: Let's check that you solved the problem through recursion.\n",
        "\n",
        "for _ in range(1000):\n",
        "    n = random.randint(10, 100)\n",
        "    l = list(random.choices(list(range(100)), k=n))\n",
        "    l.sort()\n",
        "    k = random.randint(0, 99)\n",
        "    wl = WeakList(*l, verbose=False)\n",
        "    idx = test_enough_recursion(wl, k)\n",
        "    if k in l:\n",
        "        assert l.index(k) == idx\n",
        "    else:\n",
        "        assert idx is None\n"
      ],
      "id": "fJqBbOdtkZgS"
    }
  ],
  "metadata": {
    "kernelspec": {
      "display_name": "Python 3",
      "language": "python",
      "name": "python3"
    },
    "language_info": {
      "codemirror_mode": {
        "name": "ipython",
        "version": 3
      },
      "file_extension": ".py",
      "mimetype": "text/x-python",
      "name": "python",
      "nbconvert_exporter": "python",
      "pygments_lexer": "ipython3",
      "version": "3.8.10"
    },
    "test_info": {
      "id": "409a3ca77df94dcb1af83ec4ed62aa96a89090f3"
    },
    "colab": {
      "provenance": [],
      "include_colab_link": true
    }
  },
  "nbformat": 4,
  "nbformat_minor": 5
}